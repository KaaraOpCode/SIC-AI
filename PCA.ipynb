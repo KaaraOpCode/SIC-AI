{
 "cells": [
  {
   "cell_type": "code",
   "execution_count": 1,
   "id": "1f2515c8-bdcb-4597-8da7-1f29d8db0443",
   "metadata": {},
   "outputs": [
    {
     "name": "stdout",
     "output_type": "stream",
     "text": [
      "Mean-centered data:\n",
      " [[ 0.33333333 -1.66666667]\n",
      " [-1.66666667  0.33333333]\n",
      " [ 1.33333333  1.33333333]]\n",
      "\n",
      "Covariance matrix:\n",
      " [[2.33333333 0.33333333]\n",
      " [0.33333333 2.33333333]]\n",
      "\n",
      "Eigenvalues:\n",
      " [2.         2.66666667]\n",
      "\n",
      "Eigenvectors (PC directions):\n",
      " [[-0.70710678  0.70710678]\n",
      " [ 0.70710678  0.70710678]]\n",
      "\n",
      "Sorted Eigenvalues:\n",
      " [2.66666667 2.        ]\n",
      "\n",
      "Sorted Eigenvectors (principal components):\n",
      " [[ 0.70710678 -0.70710678]\n",
      " [ 0.70710678  0.70710678]]\n",
      "\n",
      "SVD - U matrix:\n",
      " [[ 4.08248290e-01 -7.07106781e-01  5.77350269e-01]\n",
      " [ 4.08248290e-01  7.07106781e-01  5.77350269e-01]\n",
      " [-8.16496581e-01  1.11022302e-16  5.77350269e-01]]\n",
      "\n",
      "SVD - Singular values:\n",
      " [2.30940108 2.        ]\n",
      "\n",
      "SVD - VT matrix (principal directions):\n",
      " [[-0.70710678 -0.70710678]\n",
      " [-0.70710678  0.70710678]]\n",
      "\n",
      "Explained variance from SVD:\n",
      " [2.66666667 2.        ]\n"
     ]
    }
   ],
   "source": [
    "# PCA Example using Eigenvalue Decomposition (ED) and Singular Value Decomposition (SVD)\n",
    "\n",
    "import numpy as np\n",
    "\n",
    "# 1. Define the dataset\n",
    "X = np.array([\n",
    "    [2, 0],\n",
    "    [0, 2],\n",
    "    [3, 3]\n",
    "])\n",
    "\n",
    "# 2. Mean-center the data\n",
    "X_meaned = X - np.mean(X, axis=0)\n",
    "print(\"Mean-centered data:\\n\", X_meaned)\n",
    "\n",
    "# 3. Calculate Covariance Matrix\n",
    "cov_matrix = np.cov(X_meaned, rowvar=False)\n",
    "print(\"\\nCovariance matrix:\\n\", cov_matrix)\n",
    "\n",
    "# 4. Eigenvalue Decomposition (ED)\n",
    "eig_values, eig_vectors = np.linalg.eigh(cov_matrix)\n",
    "print(\"\\nEigenvalues:\\n\", eig_values)\n",
    "print(\"\\nEigenvectors (PC directions):\\n\", eig_vectors)\n",
    "\n",
    "# 5. Sort eigenvalues and eigenvectors in descending order\n",
    "sorted_index = np.argsort(eig_values)[::-1]\n",
    "eig_values = eig_values[sorted_index]\n",
    "eig_vectors = eig_vectors[:, sorted_index]\n",
    "\n",
    "print(\"\\nSorted Eigenvalues:\\n\", eig_values)\n",
    "print(\"\\nSorted Eigenvectors (principal components):\\n\", eig_vectors)\n",
    "\n",
    "# 6. Singular Value Decomposition (SVD)\n",
    "U, S, VT = np.linalg.svd(X_meaned)\n",
    "print(\"\\nSVD - U matrix:\\n\", U)\n",
    "print(\"\\nSVD - Singular values:\\n\", S)\n",
    "print(\"\\nSVD - VT matrix (principal directions):\\n\", VT)\n",
    "\n",
    "# Variance explained from SVD singular values\n",
    "explained_variance_svd = (S**2) / (X.shape[0]-1)\n",
    "print(\"\\nExplained variance from SVD:\\n\", explained_variance_svd)\n"
   ]
  },
  {
   "cell_type": "code",
   "execution_count": null,
   "id": "f3cb8026-233f-4812-ba61-f3a72d59147a",
   "metadata": {},
   "outputs": [],
   "source": []
  }
 ],
 "metadata": {
  "kernelspec": {
   "display_name": "Python [conda env:base] *",
   "language": "python",
   "name": "conda-base-py"
  },
  "language_info": {
   "codemirror_mode": {
    "name": "ipython",
    "version": 3
   },
   "file_extension": ".py",
   "mimetype": "text/x-python",
   "name": "python",
   "nbconvert_exporter": "python",
   "pygments_lexer": "ipython3",
   "version": "3.11.7"
  }
 },
 "nbformat": 4,
 "nbformat_minor": 5
}
