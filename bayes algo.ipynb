{
 "cells": [
  {
   "cell_type": "code",
   "execution_count": null,
   "id": "caebb0d9-9b31-4678-b6a6-fe95d3f10d2d",
   "metadata": {},
   "outputs": [],
   "source": [
    "How This Applies in WebPOSAI\n",
    "Historical Data: Past products with category labels in your POS database.\n",
    "\n",
    "Features: Price, weight, dimensions, brand encoding, etc.\n",
    "\n",
    "Target: Product category.\n",
    "\n",
    "✅ Outcome: When a store manager enters a new product with features only, the Naïve Bayes model instantly predicts its category for them to approve, saving operational time and improving inventory management accuracy.\n",
    "\n",
    "Limitations in This Scenario\n",
    "❌ Naïve Bayes assumes feature independence, which may not hold (e.g. price and brand often correlate).\n",
    "❌ For continuous variables, it assumes normal distribution (Gaussian). If data is highly skewed, consider preprocessing or using another model.\n",
    "\n"
   ]
  },
  {
   "cell_type": "code",
   "execution_count": 3,
   "id": "c2e0144c-72e1-4f84-b3d6-7e92fc27c974",
   "metadata": {},
   "outputs": [
    {
     "name": "stdout",
     "output_type": "stream",
     "text": [
      "Accuracy: 0.9777777777777777\n",
      "              precision    recall  f1-score   support\n",
      "\n",
      "           0       1.00      1.00      1.00        19\n",
      "           1       1.00      0.92      0.96        13\n",
      "           2       0.93      1.00      0.96        13\n",
      "\n",
      "    accuracy                           0.98        45\n",
      "   macro avg       0.98      0.97      0.97        45\n",
      "weighted avg       0.98      0.98      0.98        45\n",
      "\n"
     ]
    }
   ],
   "source": [
    "from sklearn.model_selection import train_test_split\n",
    "from sklearn.naive_bayes import GaussianNB\n",
    "from sklearn.metrics import accuracy_score, classification_report\n",
    "\n",
    "# Example: WebPOSAI product dataset\n",
    "# X: features such as price, stock, weight, dimensions encoded as numerical values\n",
    "# y: product category labels (e.g. Electronics=0, Groceries=1, Clothing=2)\n",
    "\n",
    "# Simulating with iris dataset as placeholder for structure\n",
    "from sklearn.datasets import load_iris\n",
    "X, y = load_iris(return_X_y=True)\n",
    "\n",
    "# Split data\n",
    "X_train, X_test, y_train, y_test = train_test_split(X, y, test_size=0.3, random_state=42)\n",
    "\n",
    "# Instantiate Naïve Bayes classifier\n",
    "model = GaussianNB()\n",
    "\n",
    "# Train the model on historical product data\n",
    "model.fit(X_train, y_train)\n",
    "\n",
    "# Predict product categories for new incoming products\n",
    "y_pred = model.predict(X_test)\n",
    "\n",
    "# Evaluate model performance\n",
    "print(\"Accuracy:\", accuracy_score(y_test, y_pred))\n",
    "print(classification_report(y_test, y_pred))\n"
   ]
  },
  {
   "cell_type": "code",
   "execution_count": null,
   "id": "372449d9-31f9-4f3d-a443-401e4d1b2005",
   "metadata": {},
   "outputs": [],
   "source": []
  },
  {
   "cell_type": "code",
   "execution_count": null,
   "id": "8c1208b0-5166-46c1-89c2-4d2f19359ac1",
   "metadata": {},
   "outputs": [],
   "source": []
  }
 ],
 "metadata": {
  "kernelspec": {
   "display_name": "Python [conda env:base] *",
   "language": "python",
   "name": "conda-base-py"
  },
  "language_info": {
   "codemirror_mode": {
    "name": "ipython",
    "version": 3
   },
   "file_extension": ".py",
   "mimetype": "text/x-python",
   "name": "python",
   "nbconvert_exporter": "python",
   "pygments_lexer": "ipython3",
   "version": "3.11.7"
  }
 },
 "nbformat": 4,
 "nbformat_minor": 5
}
