{
 "cells": [
  {
   "cell_type": "markdown",
   "id": "56909b3d",
   "metadata": {},
   "source": [
    "# CHAPTER 3- QUIZZ"
   ]
  },
  {
   "cell_type": "markdown",
   "id": "86a69c8e",
   "metadata": {},
   "source": [
    "# QUESTION 1 "
   ]
  },
  {
   "cell_type": "code",
   "execution_count": 2,
   "id": "4740e9fa",
   "metadata": {},
   "outputs": [
    {
     "data": {
      "text/html": [
       "<div>\n",
       "<style scoped>\n",
       "    .dataframe tbody tr th:only-of-type {\n",
       "        vertical-align: middle;\n",
       "    }\n",
       "\n",
       "    .dataframe tbody tr th {\n",
       "        vertical-align: top;\n",
       "    }\n",
       "\n",
       "    .dataframe thead th {\n",
       "        text-align: right;\n",
       "    }\n",
       "</style>\n",
       "<table border=\"1\" class=\"dataframe\">\n",
       "  <thead>\n",
       "    <tr style=\"text-align: right;\">\n",
       "      <th></th>\n",
       "      <th>Name</th>\n",
       "      <th>Gender</th>\n",
       "      <th>Age</th>\n",
       "      <th>Grade</th>\n",
       "      <th>Absence</th>\n",
       "      <th>Bloodtype</th>\n",
       "      <th>Height</th>\n",
       "      <th>Weight</th>\n",
       "    </tr>\n",
       "  </thead>\n",
       "  <tbody>\n",
       "    <tr>\n",
       "      <th>0</th>\n",
       "      <td>Jared Diamond</td>\n",
       "      <td>M</td>\n",
       "      <td>23</td>\n",
       "      <td>3</td>\n",
       "      <td>Y</td>\n",
       "      <td>O</td>\n",
       "      <td>165.3</td>\n",
       "      <td>68.2</td>\n",
       "    </tr>\n",
       "    <tr>\n",
       "      <th>1</th>\n",
       "      <td>Sarah O'Donnel</td>\n",
       "      <td>F</td>\n",
       "      <td>22</td>\n",
       "      <td>2</td>\n",
       "      <td>N</td>\n",
       "      <td>AB</td>\n",
       "      <td>170.1</td>\n",
       "      <td>53.0</td>\n",
       "    </tr>\n",
       "    <tr>\n",
       "      <th>2</th>\n",
       "      <td>Brian Martin</td>\n",
       "      <td>M</td>\n",
       "      <td>24</td>\n",
       "      <td>4</td>\n",
       "      <td>N</td>\n",
       "      <td>B</td>\n",
       "      <td>175.0</td>\n",
       "      <td>80.1</td>\n",
       "    </tr>\n",
       "    <tr>\n",
       "      <th>3</th>\n",
       "      <td>David Hassel</td>\n",
       "      <td>M</td>\n",
       "      <td>23</td>\n",
       "      <td>3</td>\n",
       "      <td>N</td>\n",
       "      <td>AB</td>\n",
       "      <td>182.1</td>\n",
       "      <td>85.7</td>\n",
       "    </tr>\n",
       "    <tr>\n",
       "      <th>4</th>\n",
       "      <td>Clara Rodriquez</td>\n",
       "      <td>F</td>\n",
       "      <td>20</td>\n",
       "      <td>1</td>\n",
       "      <td>Y</td>\n",
       "      <td>A</td>\n",
       "      <td>168.0</td>\n",
       "      <td>49.5</td>\n",
       "    </tr>\n",
       "  </tbody>\n",
       "</table>\n",
       "</div>"
      ],
      "text/plain": [
       "              Name Gender  Age  Grade Absence Bloodtype  Height  Weight\n",
       "0    Jared Diamond      M   23      3       Y         O   165.3    68.2\n",
       "1   Sarah O'Donnel      F   22      2       N        AB   170.1    53.0\n",
       "2     Brian Martin      M   24      4       N         B   175.0    80.1\n",
       "3     David Hassel      M   23      3       N        AB   182.1    85.7\n",
       "4  Clara Rodriquez      F   20      1       Y         A   168.0    49.5"
      ]
     },
     "execution_count": 2,
     "metadata": {},
     "output_type": "execute_result"
    }
   ],
   "source": [
    "#Read data from file and import pandas\n",
    "import pandas as pd\n",
    "import os\n",
    "df = pd.read_csv('./data_studentlist.csv', header = 'infer')\n",
    "df.head()"
   ]
  },
  {
   "cell_type": "markdown",
   "id": "5dc5a52c",
   "metadata": {},
   "source": [
    "# Answer the following questions using Pandas library."
   ]
  },
  {
   "cell_type": "code",
   "execution_count": 5,
   "id": "6e3bc069",
   "metadata": {},
   "outputs": [
    {
     "data": {
      "text/plain": [
       "172.41000000000003"
      ]
     },
     "execution_count": 5,
     "metadata": {},
     "output_type": "execute_result"
    }
   ],
   "source": [
    "#1).\n",
    "\n",
    "df[df.Gender == 'M'].Height.mean()"
   ]
  },
  {
   "cell_type": "code",
   "execution_count": 6,
   "id": "7321a5c7",
   "metadata": {},
   "outputs": [
    {
     "data": {
      "text/plain": [
       "166.64285714285714"
      ]
     },
     "execution_count": 6,
     "metadata": {},
     "output_type": "execute_result"
    }
   ],
   "source": [
    "#2)\n",
    "df[df.Gender == 'F'].Height.mean()\n"
   ]
  },
  {
   "cell_type": "code",
   "execution_count": 7,
   "id": "47854cc3",
   "metadata": {},
   "outputs": [
    {
     "data": {
      "text/plain": [
       "68.50000000000001"
      ]
     },
     "execution_count": 7,
     "metadata": {},
     "output_type": "execute_result"
    }
   ],
   "source": [
    "#3)\n",
    "df[df.Gender == 'M'].Weight.mean()"
   ]
  },
  {
   "cell_type": "code",
   "execution_count": 8,
   "id": "a604fa3c",
   "metadata": {},
   "outputs": [
    {
     "data": {
      "text/plain": [
       "50.44285714285714"
      ]
     },
     "execution_count": 8,
     "metadata": {},
     "output_type": "execute_result"
    }
   ],
   "source": [
    "#4)\n",
    "df[df.Gender == 'F'].Weight.mean()"
   ]
  },
  {
   "cell_type": "code",
   "execution_count": 9,
   "id": "74a657dd",
   "metadata": {},
   "outputs": [
    {
     "data": {
      "text/plain": [
       "182.1"
      ]
     },
     "execution_count": 9,
     "metadata": {},
     "output_type": "execute_result"
    }
   ],
   "source": [
    "#5)\n",
    "df[df.Gender == 'M'].Height.max()"
   ]
  },
  {
   "cell_type": "code",
   "execution_count": 10,
   "id": "d4fc4d8a",
   "metadata": {},
   "outputs": [
    {
     "data": {
      "text/plain": [
       "155.2"
      ]
     },
     "execution_count": 10,
     "metadata": {},
     "output_type": "execute_result"
    }
   ],
   "source": [
    "#6)\n",
    "df[df.Gender == 'F'].Height.min()"
   ]
  },
  {
   "cell_type": "code",
   "execution_count": 11,
   "id": "0ea73bba",
   "metadata": {},
   "outputs": [
    {
     "data": {
      "text/plain": [
       "61.3"
      ]
     },
     "execution_count": 11,
     "metadata": {},
     "output_type": "execute_result"
    }
   ],
   "source": [
    "#7)\n",
    "df[(df.Gender == 'M') & (df.Height > 175)].Weight.min()"
   ]
  },
  {
   "cell_type": "code",
   "execution_count": 12,
   "id": "7b1ccb66",
   "metadata": {},
   "outputs": [
    {
     "data": {
      "text/plain": [
       "45.3"
      ]
     },
     "execution_count": 12,
     "metadata": {},
     "output_type": "execute_result"
    }
   ],
   "source": [
    "#8)\n",
    "df[(df.Gender == 'F') & (df.Height < 160)].Weight.max()"
   ]
  },
  {
   "cell_type": "code",
   "execution_count": 13,
   "id": "a16b9d38",
   "metadata": {},
   "outputs": [
    {
     "data": {
      "text/plain": [
       "2.076923076923077"
      ]
     },
     "execution_count": 13,
     "metadata": {},
     "output_type": "execute_result"
    }
   ],
   "source": [
    "#9)\n",
    "df[df.Absence=='N'].Grade.mean()"
   ]
  },
  {
   "cell_type": "code",
   "execution_count": 14,
   "id": "f6935ab4",
   "metadata": {},
   "outputs": [
    {
     "data": {
      "text/plain": [
       "3.0"
      ]
     },
     "execution_count": 14,
     "metadata": {},
     "output_type": "execute_result"
    }
   ],
   "source": [
    "#10)\n",
    "df[df.Absence=='Y'].Grade.mean()"
   ]
  },
  {
   "cell_type": "code",
   "execution_count": 15,
   "id": "215b619c",
   "metadata": {},
   "outputs": [
    {
     "data": {
      "text/plain": [
       "172.64285714285714"
      ]
     },
     "execution_count": 15,
     "metadata": {},
     "output_type": "execute_result"
    }
   ],
   "source": [
    "#11)\n",
    "df[(df.Bloodtype == 'A') | (df.Bloodtype == 'AB')].Height.mean()"
   ]
  },
  {
   "cell_type": "code",
   "execution_count": 16,
   "id": "e69153b8",
   "metadata": {},
   "outputs": [
    {
     "data": {
      "text/plain": [
       "173.375"
      ]
     },
     "execution_count": 16,
     "metadata": {},
     "output_type": "execute_result"
    }
   ],
   "source": [
    "#12)\n",
    "df[((df.Bloodtype == 'A') | (df.Bloodtype == 'AB')) & (df.Gender == 'M')].Height.mean()"
   ]
  },
  {
   "cell_type": "code",
   "execution_count": 17,
   "id": "9c62513a",
   "metadata": {},
   "outputs": [
    {
     "data": {
      "text/plain": [
       "23.666666666666668"
      ]
     },
     "execution_count": 17,
     "metadata": {},
     "output_type": "execute_result"
    }
   ],
   "source": [
    "#13)\n",
    "df[ (df.Absence =='Y') & (df.Grade >= 3) ].Age.mean()"
   ]
  },
  {
   "cell_type": "markdown",
   "id": "83930fef",
   "metadata": {},
   "source": []
  },
  {
   "cell_type": "markdown",
   "id": "c9c7b5d6",
   "metadata": {},
   "source": [
    "# Question 2"
   ]
  },
  {
   "cell_type": "code",
   "execution_count": 162,
   "id": "1bc7d4ae",
   "metadata": {},
   "outputs": [
    {
     "name": "stdout",
     "output_type": "stream",
     "text": [
      "(281, 6)\n"
     ]
    },
    {
     "data": {
      "text/html": [
       "<div>\n",
       "<style scoped>\n",
       "    .dataframe tbody tr th:only-of-type {\n",
       "        vertical-align: middle;\n",
       "    }\n",
       "\n",
       "    .dataframe tbody tr th {\n",
       "        vertical-align: top;\n",
       "    }\n",
       "\n",
       "    .dataframe thead th {\n",
       "        text-align: right;\n",
       "    }\n",
       "</style>\n",
       "<table border=\"1\" class=\"dataframe\">\n",
       "  <thead>\n",
       "    <tr style=\"text-align: right;\">\n",
       "      <th></th>\n",
       "      <th>Province Code</th>\n",
       "      <th>City Code</th>\n",
       "      <th>Population</th>\n",
       "      <th>Households</th>\n",
       "      <th>Person's Household</th>\n",
       "      <th>Gender Ratio</th>\n",
       "    </tr>\n",
       "  </thead>\n",
       "  <tbody>\n",
       "    <tr>\n",
       "      <th>0</th>\n",
       "      <td>109</td>\n",
       "      <td>1001</td>\n",
       "      <td>10,078,850</td>\n",
       "      <td>4,197,478</td>\n",
       "      <td>2.40</td>\n",
       "      <td>0.97</td>\n",
       "    </tr>\n",
       "    <tr>\n",
       "      <th>1</th>\n",
       "      <td>109</td>\n",
       "      <td>1188</td>\n",
       "      <td>155,695</td>\n",
       "      <td>72,882</td>\n",
       "      <td>2.14</td>\n",
       "      <td>0.98</td>\n",
       "    </tr>\n",
       "    <tr>\n",
       "      <th>2</th>\n",
       "      <td>109</td>\n",
       "      <td>1189</td>\n",
       "      <td>126,817</td>\n",
       "      <td>59,614</td>\n",
       "      <td>2.13</td>\n",
       "      <td>1.00</td>\n",
       "    </tr>\n",
       "    <tr>\n",
       "      <th>3</th>\n",
       "      <td>109</td>\n",
       "      <td>1158</td>\n",
       "      <td>235,186</td>\n",
       "      <td>108,138</td>\n",
       "      <td>2.17</td>\n",
       "      <td>0.94</td>\n",
       "    </tr>\n",
       "    <tr>\n",
       "      <th>4</th>\n",
       "      <td>109</td>\n",
       "      <td>1105</td>\n",
       "      <td>298,145</td>\n",
       "      <td>126,915</td>\n",
       "      <td>2.35</td>\n",
       "      <td>0.99</td>\n",
       "    </tr>\n",
       "    <tr>\n",
       "      <th>5</th>\n",
       "      <td>109</td>\n",
       "      <td>1032</td>\n",
       "      <td>362,197</td>\n",
       "      <td>158,769</td>\n",
       "      <td>2.28</td>\n",
       "      <td>0.97</td>\n",
       "    </tr>\n",
       "    <tr>\n",
       "      <th>6</th>\n",
       "      <td>109</td>\n",
       "      <td>1065</td>\n",
       "      <td>362,604</td>\n",
       "      <td>160,110</td>\n",
       "      <td>2.26</td>\n",
       "      <td>1.01</td>\n",
       "    </tr>\n",
       "    <tr>\n",
       "      <th>7</th>\n",
       "      <td>109</td>\n",
       "      <td>1190</td>\n",
       "      <td>417,976</td>\n",
       "      <td>177,077</td>\n",
       "      <td>2.36</td>\n",
       "      <td>1.00</td>\n",
       "    </tr>\n",
       "    <tr>\n",
       "      <th>8</th>\n",
       "      <td>109</td>\n",
       "      <td>1106</td>\n",
       "      <td>464,176</td>\n",
       "      <td>192,670</td>\n",
       "      <td>2.41</td>\n",
       "      <td>0.96</td>\n",
       "    </tr>\n",
       "    <tr>\n",
       "      <th>9</th>\n",
       "      <td>109</td>\n",
       "      <td>1006</td>\n",
       "      <td>333,523</td>\n",
       "      <td>141,325</td>\n",
       "      <td>2.36</td>\n",
       "      <td>0.97</td>\n",
       "    </tr>\n",
       "    <tr>\n",
       "      <th>10</th>\n",
       "      <td>109</td>\n",
       "      <td>1063</td>\n",
       "      <td>353,284</td>\n",
       "      <td>137,260</td>\n",
       "      <td>2.57</td>\n",
       "      <td>0.97</td>\n",
       "    </tr>\n",
       "    <tr>\n",
       "      <th>11</th>\n",
       "      <td>109</td>\n",
       "      <td>1055</td>\n",
       "      <td>579,324</td>\n",
       "      <td>220,403</td>\n",
       "      <td>2.63</td>\n",
       "      <td>0.95</td>\n",
       "    </tr>\n",
       "    <tr>\n",
       "      <th>12</th>\n",
       "      <td>109</td>\n",
       "      <td>1168</td>\n",
       "      <td>499,399</td>\n",
       "      <td>203,159</td>\n",
       "      <td>2.46</td>\n",
       "      <td>0.96</td>\n",
       "    </tr>\n",
       "    <tr>\n",
       "      <th>13</th>\n",
       "      <td>109</td>\n",
       "      <td>1097</td>\n",
       "      <td>307,843</td>\n",
       "      <td>134,004</td>\n",
       "      <td>2.30</td>\n",
       "      <td>0.95</td>\n",
       "    </tr>\n",
       "    <tr>\n",
       "      <th>14</th>\n",
       "      <td>109</td>\n",
       "      <td>1070</td>\n",
       "      <td>389,937</td>\n",
       "      <td>171,691</td>\n",
       "      <td>2.27</td>\n",
       "      <td>0.93</td>\n",
       "    </tr>\n",
       "    <tr>\n",
       "      <th>15</th>\n",
       "      <td>109</td>\n",
       "      <td>1134</td>\n",
       "      <td>485,800</td>\n",
       "      <td>179,315</td>\n",
       "      <td>2.71</td>\n",
       "      <td>0.98</td>\n",
       "    </tr>\n",
       "    <tr>\n",
       "      <th>16</th>\n",
       "      <td>109</td>\n",
       "      <td>1007</td>\n",
       "      <td>588,559</td>\n",
       "      <td>236,939</td>\n",
       "      <td>2.48</td>\n",
       "      <td>0.96</td>\n",
       "    </tr>\n",
       "    <tr>\n",
       "      <th>17</th>\n",
       "      <td>109</td>\n",
       "      <td>1035</td>\n",
       "      <td>425,288</td>\n",
       "      <td>172,797</td>\n",
       "      <td>2.46</td>\n",
       "      <td>1.00</td>\n",
       "    </tr>\n",
       "    <tr>\n",
       "      <th>18</th>\n",
       "      <td>109</td>\n",
       "      <td>1043</td>\n",
       "      <td>238,367</td>\n",
       "      <td>104,331</td>\n",
       "      <td>2.28</td>\n",
       "      <td>1.04</td>\n",
       "    </tr>\n",
       "    <tr>\n",
       "      <th>19</th>\n",
       "      <td>109</td>\n",
       "      <td>1145</td>\n",
       "      <td>381,647</td>\n",
       "      <td>168,314</td>\n",
       "      <td>2.27</td>\n",
       "      <td>1.00</td>\n",
       "    </tr>\n",
       "  </tbody>\n",
       "</table>\n",
       "</div>"
      ],
      "text/plain": [
       "    Province Code  City Code    Population   Households  Person's Household  \\\n",
       "0             109       1001   10,078,850    4,197,478                 2.40   \n",
       "1             109       1188      155,695       72,882                 2.14   \n",
       "2             109       1189      126,817       59,614                 2.13   \n",
       "3             109       1158      235,186      108,138                 2.17   \n",
       "4             109       1105      298,145      126,915                 2.35   \n",
       "5             109       1032      362,197      158,769                 2.28   \n",
       "6             109       1065      362,604      160,110                 2.26   \n",
       "7             109       1190      417,976      177,077                 2.36   \n",
       "8             109       1106      464,176      192,670                 2.41   \n",
       "9             109       1006      333,523      141,325                 2.36   \n",
       "10            109       1063      353,284      137,260                 2.57   \n",
       "11            109       1055      579,324      220,403                 2.63   \n",
       "12            109       1168      499,399      203,159                 2.46   \n",
       "13            109       1097      307,843      134,004                 2.30   \n",
       "14            109       1070      389,937      171,691                 2.27   \n",
       "15            109       1134      485,800      179,315                 2.71   \n",
       "16            109       1007      588,559      236,939                 2.48   \n",
       "17            109       1035      425,288      172,797                 2.46   \n",
       "18            109       1043      238,367      104,331                 2.28   \n",
       "19            109       1145      381,647      168,314                 2.27   \n",
       "\n",
       "    Gender Ratio  \n",
       "0           0.97  \n",
       "1           0.98  \n",
       "2           1.00  \n",
       "3           0.94  \n",
       "4           0.99  \n",
       "5           0.97  \n",
       "6           1.01  \n",
       "7           1.00  \n",
       "8           0.96  \n",
       "9           0.97  \n",
       "10          0.97  \n",
       "11          0.95  \n",
       "12          0.96  \n",
       "13          0.95  \n",
       "14          0.93  \n",
       "15          0.98  \n",
       "16          0.96  \n",
       "17          1.00  \n",
       "18          1.04  \n",
       "19          1.00  "
      ]
     },
     "execution_count": 162,
     "metadata": {},
     "output_type": "execute_result"
    }
   ],
   "source": [
    "#Read data from file and import pandas\n",
    "import pandas as pd\n",
    "import os\n",
    "import numpy as np\n",
    "df = pd.read_csv('./data_census.csv', header = 'infer',na_values=[' '])\n",
    "print(df.shape)\n",
    "df.head(20)\n",
    "\n",
    "\n",
    "\n"
   ]
  },
  {
   "cell_type": "code",
   "execution_count": 163,
   "id": "afacb77a",
   "metadata": {},
   "outputs": [
    {
     "name": "stdout",
     "output_type": "stream",
     "text": [
      "<class 'pandas.core.frame.DataFrame'>\n",
      "RangeIndex: 281 entries, 0 to 280\n",
      "Data columns (total 6 columns):\n",
      " #   Column              Non-Null Count  Dtype  \n",
      "---  ------              --------------  -----  \n",
      " 0   ProvinceCode        281 non-null    int64  \n",
      " 1   City Code           281 non-null    int64  \n",
      " 2   Population          281 non-null    object \n",
      " 3   Households          281 non-null    object \n",
      " 4   Person's Household  281 non-null    float64\n",
      " 5   Gender Ratio        281 non-null    float64\n",
      "dtypes: float64(2), int64(2), object(2)\n",
      "memory usage: 13.3+ KB\n"
     ]
    },
    {
     "data": {
      "text/plain": [
       "' 2,068,444  602,939  260,326  342,613  112,282  104,738  295,751  168,415  124,542  40,052  164,121  54,990  71,388  57,198  32,191  92,766  84,158  62,913  615,250  454,673  160,577 '"
      ]
     },
     "execution_count": 163,
     "metadata": {},
     "output_type": "execute_result"
    }
   ],
   "source": [
    "#1)\n",
    "\n",
    "df = df.rename(columns={'Province Code': 'ProvinceCode'}) \n",
    "df.info()\n",
    "\n",
    "df[(df.ProvinceCode == 115) | (df.ProvinceCode == 116)].Population.sum()\n",
    "\n"
   ]
  },
  {
   "cell_type": "code",
   "execution_count": 165,
   "id": "04917e3f",
   "metadata": {},
   "outputs": [
    {
     "name": "stdout",
     "output_type": "stream",
     "text": [
      "<class 'pandas.core.frame.DataFrame'>\n",
      "RangeIndex: 281 entries, 0 to 280\n",
      "Data columns (total 6 columns):\n",
      " #   Column              Non-Null Count  Dtype  \n",
      "---  ------              --------------  -----  \n",
      " 0   ProvinceCode        281 non-null    int64  \n",
      " 1   City Code           281 non-null    int64  \n",
      " 2   Population          281 non-null    object \n",
      " 3   Households          281 non-null    object \n",
      " 4   Person's Household  281 non-null    float64\n",
      " 5   GenderRatio         281 non-null    float64\n",
      "dtypes: float64(2), int64(2), object(2)\n",
      "memory usage: 13.3+ KB\n"
     ]
    },
    {
     "ename": "TypeError",
     "evalue": "Could not convert  362,604  238,367  512,921  86,771  240,772  207,902  188,706  2,914,271  114,125  73,495  406,990  337,721  500,981  67,383  20,825  398,971  242,758  330,231  199,349  1,169,768  241,745  345,481  174,903  190,203  217,436  185,212  185,212  12,432,063  1,177,851  300,501  343,624  201,569  332,157  221,336  250,637  247,111  184,992  454,231  703,973  380,882  323,091  207,744  392,978  157,007  220,985  417,353  205,239  181,445  345,128  568,265  305,770  203,695  155,740  110,677  45,333  61,693  106,694  1,547,166  94,117  47,994  71,564  70,400  45,573  40,113  43,624  39,284  49,122  26,790  24,283  33,352  30,066  27,523  1,582,181  832,387  251,652  179,382  208,173  136,457  52,645  35,894  66,685  38,027  95,956  30,841  2,068,444  602,939  260,326  342,613  112,282  104,738  295,751  168,415  164,121  54,990  84,158  62,913  278,441  92,155  29,580  290,638  94,945  152,296  46,986  58,632  46,071  43,566  2,697,791  517,904  246,634  420,226  100,554  255,871  34,655  45,383  121,846  10,304  3,356,540  1,072,222  258,719  237,307  212,270  182,226  139,298  116,082  527,380  252,823  296,521  69,256  615,250  160,577  to numeric",
     "output_type": "error",
     "traceback": [
      "\u001b[1;31m---------------------------------------------------------------------------\u001b[0m",
      "\u001b[1;31mValueError\u001b[0m                                Traceback (most recent call last)",
      "File \u001b[1;32mC:\\ProgramData\\anaconda3\\Lib\\site-packages\\pandas\\core\\nanops.py:1692\u001b[0m, in \u001b[0;36m_ensure_numeric\u001b[1;34m(x)\u001b[0m\n\u001b[0;32m   1691\u001b[0m \u001b[38;5;28;01mtry\u001b[39;00m:\n\u001b[1;32m-> 1692\u001b[0m     x \u001b[38;5;241m=\u001b[39m \u001b[38;5;28mfloat\u001b[39m(x)\n\u001b[0;32m   1693\u001b[0m \u001b[38;5;28;01mexcept\u001b[39;00m (\u001b[38;5;167;01mTypeError\u001b[39;00m, \u001b[38;5;167;01mValueError\u001b[39;00m):\n\u001b[0;32m   1694\u001b[0m     \u001b[38;5;66;03m# e.g. \"1+1j\" or \"foo\"\u001b[39;00m\n",
      "\u001b[1;31mValueError\u001b[0m: could not convert string to float: ' 362,604  238,367  512,921  86,771  240,772  207,902  188,706  2,914,271  114,125  73,495  406,990  337,721  500,981  67,383  20,825  398,971  242,758  330,231  199,349  1,169,768  241,745  345,481  174,903  190,203  217,436  185,212  185,212  12,432,063  1,177,851  300,501  343,624  201,569  332,157  221,336  250,637  247,111  184,992  454,231  703,973  380,882  323,091  207,744  392,978  157,007  220,985  417,353  205,239  181,445  345,128  568,265  305,770  203,695  155,740  110,677  45,333  61,693  106,694  1,547,166  94,117  47,994  71,564  70,400  45,573  40,113  43,624  39,284  49,122  26,790  24,283  33,352  30,066  27,523  1,582,181  832,387  251,652  179,382  208,173  136,457  52,645  35,894  66,685  38,027  95,956  30,841  2,068,444  602,939  260,326  342,613  112,282  104,738  295,751  168,415  164,121  54,990  84,158  62,913  278,441  92,155  29,580  290,638  94,945  152,296  46,986  58,632  46,071  43,566  2,697,791  517,904  246,634  420,226  100,554  255,871  34,655  45,383  121,846  10,304  3,356,540  1,072,222  258,719  237,307  212,270  182,226  139,298  116,082  527,380  252,823  296,521  69,256  615,250  160,577 '",
      "\nDuring handling of the above exception, another exception occurred:\n",
      "\u001b[1;31mValueError\u001b[0m                                Traceback (most recent call last)",
      "File \u001b[1;32mC:\\ProgramData\\anaconda3\\Lib\\site-packages\\pandas\\core\\nanops.py:1696\u001b[0m, in \u001b[0;36m_ensure_numeric\u001b[1;34m(x)\u001b[0m\n\u001b[0;32m   1695\u001b[0m \u001b[38;5;28;01mtry\u001b[39;00m:\n\u001b[1;32m-> 1696\u001b[0m     x \u001b[38;5;241m=\u001b[39m \u001b[38;5;28mcomplex\u001b[39m(x)\n\u001b[0;32m   1697\u001b[0m \u001b[38;5;28;01mexcept\u001b[39;00m \u001b[38;5;167;01mValueError\u001b[39;00m \u001b[38;5;28;01mas\u001b[39;00m err:\n\u001b[0;32m   1698\u001b[0m     \u001b[38;5;66;03m# e.g. \"foo\"\u001b[39;00m\n",
      "\u001b[1;31mValueError\u001b[0m: complex() arg is a malformed string",
      "\nThe above exception was the direct cause of the following exception:\n",
      "\u001b[1;31mTypeError\u001b[0m                                 Traceback (most recent call last)",
      "Cell \u001b[1;32mIn[165], line 4\u001b[0m\n\u001b[0;32m      2\u001b[0m df \u001b[38;5;241m=\u001b[39m df\u001b[38;5;241m.\u001b[39mrename(columns\u001b[38;5;241m=\u001b[39m{\u001b[38;5;124m'\u001b[39m\u001b[38;5;124mGender Ratio\u001b[39m\u001b[38;5;124m'\u001b[39m: \u001b[38;5;124m'\u001b[39m\u001b[38;5;124mGenderRatio\u001b[39m\u001b[38;5;124m'\u001b[39m}) \n\u001b[0;32m      3\u001b[0m df\u001b[38;5;241m.\u001b[39minfo()\n\u001b[1;32m----> 4\u001b[0m np\u001b[38;5;241m.\u001b[39mround(df[(df\u001b[38;5;241m.\u001b[39mGenderRatio \u001b[38;5;241m>\u001b[39m \u001b[38;5;241m1\u001b[39m)]\u001b[38;5;241m.\u001b[39mPopulation\u001b[38;5;241m.\u001b[39mmean(),\u001b[38;5;241m0\u001b[39m)\n",
      "File \u001b[1;32mC:\\ProgramData\\anaconda3\\Lib\\site-packages\\pandas\\core\\generic.py:11556\u001b[0m, in \u001b[0;36mNDFrame._add_numeric_operations.<locals>.mean\u001b[1;34m(self, axis, skipna, numeric_only, **kwargs)\u001b[0m\n\u001b[0;32m  11539\u001b[0m \u001b[38;5;129m@doc\u001b[39m(\n\u001b[0;32m  11540\u001b[0m     _num_doc,\n\u001b[0;32m  11541\u001b[0m     desc\u001b[38;5;241m=\u001b[39m\u001b[38;5;124m\"\u001b[39m\u001b[38;5;124mReturn the mean of the values over the requested axis.\u001b[39m\u001b[38;5;124m\"\u001b[39m,\n\u001b[1;32m   (...)\u001b[0m\n\u001b[0;32m  11554\u001b[0m     \u001b[38;5;241m*\u001b[39m\u001b[38;5;241m*\u001b[39mkwargs,\n\u001b[0;32m  11555\u001b[0m ):\n\u001b[1;32m> 11556\u001b[0m     \u001b[38;5;28;01mreturn\u001b[39;00m NDFrame\u001b[38;5;241m.\u001b[39mmean(\u001b[38;5;28mself\u001b[39m, axis, skipna, numeric_only, \u001b[38;5;241m*\u001b[39m\u001b[38;5;241m*\u001b[39mkwargs)\n",
      "File \u001b[1;32mC:\\ProgramData\\anaconda3\\Lib\\site-packages\\pandas\\core\\generic.py:11201\u001b[0m, in \u001b[0;36mNDFrame.mean\u001b[1;34m(self, axis, skipna, numeric_only, **kwargs)\u001b[0m\n\u001b[0;32m  11194\u001b[0m \u001b[38;5;28;01mdef\u001b[39;00m \u001b[38;5;21mmean\u001b[39m(\n\u001b[0;32m  11195\u001b[0m     \u001b[38;5;28mself\u001b[39m,\n\u001b[0;32m  11196\u001b[0m     axis: Axis \u001b[38;5;241m|\u001b[39m \u001b[38;5;28;01mNone\u001b[39;00m \u001b[38;5;241m=\u001b[39m \u001b[38;5;241m0\u001b[39m,\n\u001b[1;32m   (...)\u001b[0m\n\u001b[0;32m  11199\u001b[0m     \u001b[38;5;241m*\u001b[39m\u001b[38;5;241m*\u001b[39mkwargs,\n\u001b[0;32m  11200\u001b[0m ) \u001b[38;5;241m-\u001b[39m\u001b[38;5;241m>\u001b[39m Series \u001b[38;5;241m|\u001b[39m \u001b[38;5;28mfloat\u001b[39m:\n\u001b[1;32m> 11201\u001b[0m     \u001b[38;5;28;01mreturn\u001b[39;00m \u001b[38;5;28mself\u001b[39m\u001b[38;5;241m.\u001b[39m_stat_function(\n\u001b[0;32m  11202\u001b[0m         \u001b[38;5;124m\"\u001b[39m\u001b[38;5;124mmean\u001b[39m\u001b[38;5;124m\"\u001b[39m, nanops\u001b[38;5;241m.\u001b[39mnanmean, axis, skipna, numeric_only, \u001b[38;5;241m*\u001b[39m\u001b[38;5;241m*\u001b[39mkwargs\n\u001b[0;32m  11203\u001b[0m     )\n",
      "File \u001b[1;32mC:\\ProgramData\\anaconda3\\Lib\\site-packages\\pandas\\core\\generic.py:11158\u001b[0m, in \u001b[0;36mNDFrame._stat_function\u001b[1;34m(self, name, func, axis, skipna, numeric_only, **kwargs)\u001b[0m\n\u001b[0;32m  11154\u001b[0m     nv\u001b[38;5;241m.\u001b[39mvalidate_stat_func((), kwargs, fname\u001b[38;5;241m=\u001b[39mname)\n\u001b[0;32m  11156\u001b[0m validate_bool_kwarg(skipna, \u001b[38;5;124m\"\u001b[39m\u001b[38;5;124mskipna\u001b[39m\u001b[38;5;124m\"\u001b[39m, none_allowed\u001b[38;5;241m=\u001b[39m\u001b[38;5;28;01mFalse\u001b[39;00m)\n\u001b[1;32m> 11158\u001b[0m \u001b[38;5;28;01mreturn\u001b[39;00m \u001b[38;5;28mself\u001b[39m\u001b[38;5;241m.\u001b[39m_reduce(\n\u001b[0;32m  11159\u001b[0m     func, name\u001b[38;5;241m=\u001b[39mname, axis\u001b[38;5;241m=\u001b[39maxis, skipna\u001b[38;5;241m=\u001b[39mskipna, numeric_only\u001b[38;5;241m=\u001b[39mnumeric_only\n\u001b[0;32m  11160\u001b[0m )\n",
      "File \u001b[1;32mC:\\ProgramData\\anaconda3\\Lib\\site-packages\\pandas\\core\\series.py:4670\u001b[0m, in \u001b[0;36mSeries._reduce\u001b[1;34m(self, op, name, axis, skipna, numeric_only, filter_type, **kwds)\u001b[0m\n\u001b[0;32m   4665\u001b[0m     \u001b[38;5;28;01mraise\u001b[39;00m \u001b[38;5;167;01mTypeError\u001b[39;00m(\n\u001b[0;32m   4666\u001b[0m         \u001b[38;5;124mf\u001b[39m\u001b[38;5;124m\"\u001b[39m\u001b[38;5;124mSeries.\u001b[39m\u001b[38;5;132;01m{\u001b[39;00mname\u001b[38;5;132;01m}\u001b[39;00m\u001b[38;5;124m does not allow \u001b[39m\u001b[38;5;132;01m{\u001b[39;00mkwd_name\u001b[38;5;132;01m}\u001b[39;00m\u001b[38;5;124m=\u001b[39m\u001b[38;5;132;01m{\u001b[39;00mnumeric_only\u001b[38;5;132;01m}\u001b[39;00m\u001b[38;5;124m \u001b[39m\u001b[38;5;124m\"\u001b[39m\n\u001b[0;32m   4667\u001b[0m         \u001b[38;5;124m\"\u001b[39m\u001b[38;5;124mwith non-numeric dtypes.\u001b[39m\u001b[38;5;124m\"\u001b[39m\n\u001b[0;32m   4668\u001b[0m     )\n\u001b[0;32m   4669\u001b[0m \u001b[38;5;28;01mwith\u001b[39;00m np\u001b[38;5;241m.\u001b[39merrstate(\u001b[38;5;28mall\u001b[39m\u001b[38;5;241m=\u001b[39m\u001b[38;5;124m\"\u001b[39m\u001b[38;5;124mignore\u001b[39m\u001b[38;5;124m\"\u001b[39m):\n\u001b[1;32m-> 4670\u001b[0m     \u001b[38;5;28;01mreturn\u001b[39;00m op(delegate, skipna\u001b[38;5;241m=\u001b[39mskipna, \u001b[38;5;241m*\u001b[39m\u001b[38;5;241m*\u001b[39mkwds)\n",
      "File \u001b[1;32mC:\\ProgramData\\anaconda3\\Lib\\site-packages\\pandas\\core\\nanops.py:96\u001b[0m, in \u001b[0;36mdisallow.__call__.<locals>._f\u001b[1;34m(*args, **kwargs)\u001b[0m\n\u001b[0;32m     94\u001b[0m \u001b[38;5;28;01mtry\u001b[39;00m:\n\u001b[0;32m     95\u001b[0m     \u001b[38;5;28;01mwith\u001b[39;00m np\u001b[38;5;241m.\u001b[39merrstate(invalid\u001b[38;5;241m=\u001b[39m\u001b[38;5;124m\"\u001b[39m\u001b[38;5;124mignore\u001b[39m\u001b[38;5;124m\"\u001b[39m):\n\u001b[1;32m---> 96\u001b[0m         \u001b[38;5;28;01mreturn\u001b[39;00m f(\u001b[38;5;241m*\u001b[39margs, \u001b[38;5;241m*\u001b[39m\u001b[38;5;241m*\u001b[39mkwargs)\n\u001b[0;32m     97\u001b[0m \u001b[38;5;28;01mexcept\u001b[39;00m \u001b[38;5;167;01mValueError\u001b[39;00m \u001b[38;5;28;01mas\u001b[39;00m e:\n\u001b[0;32m     98\u001b[0m     \u001b[38;5;66;03m# we want to transform an object array\u001b[39;00m\n\u001b[0;32m     99\u001b[0m     \u001b[38;5;66;03m# ValueError message to the more typical TypeError\u001b[39;00m\n\u001b[0;32m    100\u001b[0m     \u001b[38;5;66;03m# e.g. this is normally a disallowed function on\u001b[39;00m\n\u001b[0;32m    101\u001b[0m     \u001b[38;5;66;03m# object arrays that contain strings\u001b[39;00m\n\u001b[0;32m    102\u001b[0m     \u001b[38;5;28;01mif\u001b[39;00m is_object_dtype(args[\u001b[38;5;241m0\u001b[39m]):\n",
      "File \u001b[1;32mC:\\ProgramData\\anaconda3\\Lib\\site-packages\\pandas\\core\\nanops.py:158\u001b[0m, in \u001b[0;36mbottleneck_switch.__call__.<locals>.f\u001b[1;34m(values, axis, skipna, **kwds)\u001b[0m\n\u001b[0;32m    156\u001b[0m         result \u001b[38;5;241m=\u001b[39m alt(values, axis\u001b[38;5;241m=\u001b[39maxis, skipna\u001b[38;5;241m=\u001b[39mskipna, \u001b[38;5;241m*\u001b[39m\u001b[38;5;241m*\u001b[39mkwds)\n\u001b[0;32m    157\u001b[0m \u001b[38;5;28;01melse\u001b[39;00m:\n\u001b[1;32m--> 158\u001b[0m     result \u001b[38;5;241m=\u001b[39m alt(values, axis\u001b[38;5;241m=\u001b[39maxis, skipna\u001b[38;5;241m=\u001b[39mskipna, \u001b[38;5;241m*\u001b[39m\u001b[38;5;241m*\u001b[39mkwds)\n\u001b[0;32m    160\u001b[0m \u001b[38;5;28;01mreturn\u001b[39;00m result\n",
      "File \u001b[1;32mC:\\ProgramData\\anaconda3\\Lib\\site-packages\\pandas\\core\\nanops.py:421\u001b[0m, in \u001b[0;36m_datetimelike_compat.<locals>.new_func\u001b[1;34m(values, axis, skipna, mask, **kwargs)\u001b[0m\n\u001b[0;32m    418\u001b[0m \u001b[38;5;28;01mif\u001b[39;00m datetimelike \u001b[38;5;129;01mand\u001b[39;00m mask \u001b[38;5;129;01mis\u001b[39;00m \u001b[38;5;28;01mNone\u001b[39;00m:\n\u001b[0;32m    419\u001b[0m     mask \u001b[38;5;241m=\u001b[39m isna(values)\n\u001b[1;32m--> 421\u001b[0m result \u001b[38;5;241m=\u001b[39m func(values, axis\u001b[38;5;241m=\u001b[39maxis, skipna\u001b[38;5;241m=\u001b[39mskipna, mask\u001b[38;5;241m=\u001b[39mmask, \u001b[38;5;241m*\u001b[39m\u001b[38;5;241m*\u001b[39mkwargs)\n\u001b[0;32m    423\u001b[0m \u001b[38;5;28;01mif\u001b[39;00m datetimelike:\n\u001b[0;32m    424\u001b[0m     result \u001b[38;5;241m=\u001b[39m _wrap_results(result, orig_values\u001b[38;5;241m.\u001b[39mdtype, fill_value\u001b[38;5;241m=\u001b[39miNaT)\n",
      "File \u001b[1;32mC:\\ProgramData\\anaconda3\\Lib\\site-packages\\pandas\\core\\nanops.py:727\u001b[0m, in \u001b[0;36mnanmean\u001b[1;34m(values, axis, skipna, mask)\u001b[0m\n\u001b[0;32m    724\u001b[0m     dtype_count \u001b[38;5;241m=\u001b[39m dtype\n\u001b[0;32m    726\u001b[0m count \u001b[38;5;241m=\u001b[39m _get_counts(values\u001b[38;5;241m.\u001b[39mshape, mask, axis, dtype\u001b[38;5;241m=\u001b[39mdtype_count)\n\u001b[1;32m--> 727\u001b[0m the_sum \u001b[38;5;241m=\u001b[39m _ensure_numeric(values\u001b[38;5;241m.\u001b[39msum(axis, dtype\u001b[38;5;241m=\u001b[39mdtype_sum))\n\u001b[0;32m    729\u001b[0m \u001b[38;5;28;01mif\u001b[39;00m axis \u001b[38;5;129;01mis\u001b[39;00m \u001b[38;5;129;01mnot\u001b[39;00m \u001b[38;5;28;01mNone\u001b[39;00m \u001b[38;5;129;01mand\u001b[39;00m \u001b[38;5;28mgetattr\u001b[39m(the_sum, \u001b[38;5;124m\"\u001b[39m\u001b[38;5;124mndim\u001b[39m\u001b[38;5;124m\"\u001b[39m, \u001b[38;5;28;01mFalse\u001b[39;00m):\n\u001b[0;32m    730\u001b[0m     count \u001b[38;5;241m=\u001b[39m cast(np\u001b[38;5;241m.\u001b[39mndarray, count)\n",
      "File \u001b[1;32mC:\\ProgramData\\anaconda3\\Lib\\site-packages\\pandas\\core\\nanops.py:1699\u001b[0m, in \u001b[0;36m_ensure_numeric\u001b[1;34m(x)\u001b[0m\n\u001b[0;32m   1696\u001b[0m             x \u001b[38;5;241m=\u001b[39m \u001b[38;5;28mcomplex\u001b[39m(x)\n\u001b[0;32m   1697\u001b[0m         \u001b[38;5;28;01mexcept\u001b[39;00m \u001b[38;5;167;01mValueError\u001b[39;00m \u001b[38;5;28;01mas\u001b[39;00m err:\n\u001b[0;32m   1698\u001b[0m             \u001b[38;5;66;03m# e.g. \"foo\"\u001b[39;00m\n\u001b[1;32m-> 1699\u001b[0m             \u001b[38;5;28;01mraise\u001b[39;00m \u001b[38;5;167;01mTypeError\u001b[39;00m(\u001b[38;5;124mf\u001b[39m\u001b[38;5;124m\"\u001b[39m\u001b[38;5;124mCould not convert \u001b[39m\u001b[38;5;132;01m{\u001b[39;00mx\u001b[38;5;132;01m}\u001b[39;00m\u001b[38;5;124m to numeric\u001b[39m\u001b[38;5;124m\"\u001b[39m) \u001b[38;5;28;01mfrom\u001b[39;00m \u001b[38;5;21;01merr\u001b[39;00m\n\u001b[0;32m   1700\u001b[0m \u001b[38;5;28;01mreturn\u001b[39;00m x\n",
      "\u001b[1;31mTypeError\u001b[0m: Could not convert  362,604  238,367  512,921  86,771  240,772  207,902  188,706  2,914,271  114,125  73,495  406,990  337,721  500,981  67,383  20,825  398,971  242,758  330,231  199,349  1,169,768  241,745  345,481  174,903  190,203  217,436  185,212  185,212  12,432,063  1,177,851  300,501  343,624  201,569  332,157  221,336  250,637  247,111  184,992  454,231  703,973  380,882  323,091  207,744  392,978  157,007  220,985  417,353  205,239  181,445  345,128  568,265  305,770  203,695  155,740  110,677  45,333  61,693  106,694  1,547,166  94,117  47,994  71,564  70,400  45,573  40,113  43,624  39,284  49,122  26,790  24,283  33,352  30,066  27,523  1,582,181  832,387  251,652  179,382  208,173  136,457  52,645  35,894  66,685  38,027  95,956  30,841  2,068,444  602,939  260,326  342,613  112,282  104,738  295,751  168,415  164,121  54,990  84,158  62,913  278,441  92,155  29,580  290,638  94,945  152,296  46,986  58,632  46,071  43,566  2,697,791  517,904  246,634  420,226  100,554  255,871  34,655  45,383  121,846  10,304  3,356,540  1,072,222  258,719  237,307  212,270  182,226  139,298  116,082  527,380  252,823  296,521  69,256  615,250  160,577  to numeric"
     ]
    }
   ],
   "source": [
    "#2)\n",
    "df = df.rename(columns={'Gender Ratio': 'GenderRatio'}) \n",
    "df.info()\n",
    "np.round(df[(df.GenderRatio > 1)].Population.mean(),0)"
   ]
  },
  {
   "cell_type": "code",
   "execution_count": 128,
   "id": "55591a24",
   "metadata": {},
   "outputs": [
    {
     "name": "stdout",
     "output_type": "stream",
     "text": [
      "<class 'pandas.core.frame.DataFrame'>\n",
      "RangeIndex: 281 entries, 0 to 280\n",
      "Data columns (total 6 columns):\n",
      " #   Column            Non-Null Count  Dtype  \n",
      "---  ------            --------------  -----  \n",
      " 0   ProvinceCode      281 non-null    int64  \n",
      " 1   City Code         281 non-null    int64  \n",
      " 2   Population        281 non-null    object \n",
      " 3   Households        281 non-null    object \n",
      " 4   PersonsHousehold  281 non-null    float64\n",
      " 5   GenderRatio       281 non-null    float64\n",
      "dtypes: float64(2), int64(2), object(2)\n",
      "memory usage: 13.3+ KB\n"
     ]
    },
    {
     "data": {
      "text/html": [
       "<div>\n",
       "<style scoped>\n",
       "    .dataframe tbody tr th:only-of-type {\n",
       "        vertical-align: middle;\n",
       "    }\n",
       "\n",
       "    .dataframe tbody tr th {\n",
       "        vertical-align: top;\n",
       "    }\n",
       "\n",
       "    .dataframe thead th {\n",
       "        text-align: right;\n",
       "    }\n",
       "</style>\n",
       "<table border=\"1\" class=\"dataframe\">\n",
       "  <thead>\n",
       "    <tr style=\"text-align: right;\">\n",
       "      <th></th>\n",
       "      <th>ProvinceCode</th>\n",
       "      <th>City Code</th>\n",
       "      <th>Population</th>\n",
       "      <th>Households</th>\n",
       "      <th>PersonsHousehold</th>\n",
       "      <th>GenderRatio</th>\n",
       "    </tr>\n",
       "  </thead>\n",
       "  <tbody>\n",
       "    <tr>\n",
       "      <th>62</th>\n",
       "      <td>112</td>\n",
       "      <td>1155</td>\n",
       "      <td>20,825</td>\n",
       "      <td>11,172</td>\n",
       "      <td>1.86</td>\n",
       "      <td>1.29</td>\n",
       "    </tr>\n",
       "    <tr>\n",
       "      <th>149</th>\n",
       "      <td>101</td>\n",
       "      <td>1240</td>\n",
       "      <td>26,790</td>\n",
       "      <td>13,433</td>\n",
       "      <td>1.99</td>\n",
       "      <td>1.27</td>\n",
       "    </tr>\n",
       "    <tr>\n",
       "      <th>152</th>\n",
       "      <td>101</td>\n",
       "      <td>1017</td>\n",
       "      <td>30,066</td>\n",
       "      <td>15,485</td>\n",
       "      <td>1.94</td>\n",
       "      <td>1.15</td>\n",
       "    </tr>\n",
       "    <tr>\n",
       "      <th>167</th>\n",
       "      <td>117</td>\n",
       "      <td>1033</td>\n",
       "      <td>38,027</td>\n",
       "      <td>19,145</td>\n",
       "      <td>1.99</td>\n",
       "      <td>1.03</td>\n",
       "    </tr>\n",
       "    <tr>\n",
       "      <th>227</th>\n",
       "      <td>113</td>\n",
       "      <td>1120</td>\n",
       "      <td>43,566</td>\n",
       "      <td>22,248</td>\n",
       "      <td>1.96</td>\n",
       "      <td>1.11</td>\n",
       "    </tr>\n",
       "    <tr>\n",
       "      <th>253</th>\n",
       "      <td>104</td>\n",
       "      <td>1163</td>\n",
       "      <td>10,304</td>\n",
       "      <td>5,365</td>\n",
       "      <td>1.92</td>\n",
       "      <td>1.15</td>\n",
       "    </tr>\n",
       "  </tbody>\n",
       "</table>\n",
       "</div>"
      ],
      "text/plain": [
       "     ProvinceCode  City Code Population Households  PersonsHousehold  \\\n",
       "62            112       1155    20,825     11,172               1.86   \n",
       "149           101       1240    26,790     13,433               1.99   \n",
       "152           101       1017    30,066     15,485               1.94   \n",
       "167           117       1033    38,027     19,145               1.99   \n",
       "227           113       1120    43,566     22,248               1.96   \n",
       "253           104       1163    10,304      5,365               1.92   \n",
       "\n",
       "     GenderRatio  \n",
       "62          1.29  \n",
       "149         1.27  \n",
       "152         1.15  \n",
       "167         1.03  \n",
       "227         1.11  \n",
       "253         1.15  "
      ]
     },
     "execution_count": 128,
     "metadata": {},
     "output_type": "execute_result"
    }
   ],
   "source": [
    "#3)\n",
    "df = df.rename(columns={\"Person's Household\": 'PersonsHousehold'}) \n",
    "df.info()\n",
    "df[(df.GenderRatio > 1 ) & (df.PersonsHousehold < 2)]"
   ]
  },
  {
   "cell_type": "code",
   "execution_count": 29,
   "id": "bd43fba7",
   "metadata": {},
   "outputs": [
    {
     "data": {
      "text/html": [
       "<div>\n",
       "<style scoped>\n",
       "    .dataframe tbody tr th:only-of-type {\n",
       "        vertical-align: middle;\n",
       "    }\n",
       "\n",
       "    .dataframe tbody tr th {\n",
       "        vertical-align: top;\n",
       "    }\n",
       "\n",
       "    .dataframe thead th {\n",
       "        text-align: right;\n",
       "    }\n",
       "</style>\n",
       "<table border=\"1\" class=\"dataframe\">\n",
       "  <thead>\n",
       "    <tr style=\"text-align: right;\">\n",
       "      <th></th>\n",
       "      <th>Province Code</th>\n",
       "      <th>City Code</th>\n",
       "      <th>Population</th>\n",
       "      <th>Households</th>\n",
       "      <th>Person's Household</th>\n",
       "      <th>Gender Ratio</th>\n",
       "    </tr>\n",
       "  </thead>\n",
       "  <tbody>\n",
       "    <tr>\n",
       "      <th>52</th>\n",
       "      <td>112</td>\n",
       "      <td>1001</td>\n",
       "      <td>2,914,271</td>\n",
       "      <td>1,145,232</td>\n",
       "      <td>2.54</td>\n",
       "      <td>1.01</td>\n",
       "    </tr>\n",
       "    <tr>\n",
       "      <th>228</th>\n",
       "      <td>104</td>\n",
       "      <td>1001</td>\n",
       "      <td>2,697,791</td>\n",
       "      <td>1,160,150</td>\n",
       "      <td>2.33</td>\n",
       "      <td>1.01</td>\n",
       "    </tr>\n",
       "    <tr>\n",
       "      <th>254</th>\n",
       "      <td>103</td>\n",
       "      <td>1001</td>\n",
       "      <td>3,356,540</td>\n",
       "      <td>1,356,430</td>\n",
       "      <td>2.47</td>\n",
       "      <td>1.02</td>\n",
       "    </tr>\n",
       "    <tr>\n",
       "      <th>26</th>\n",
       "      <td>108</td>\n",
       "      <td>1001</td>\n",
       "      <td>3,517,491</td>\n",
       "      <td>1,430,441</td>\n",
       "      <td>2.46</td>\n",
       "      <td>0.98</td>\n",
       "    </tr>\n",
       "    <tr>\n",
       "      <th>200</th>\n",
       "      <td>114</td>\n",
       "      <td>1179</td>\n",
       "      <td>23,308</td>\n",
       "      <td>10,877</td>\n",
       "      <td>2.14</td>\n",
       "      <td>0.98</td>\n",
       "    </tr>\n",
       "    <tr>\n",
       "      <th>266</th>\n",
       "      <td>103</td>\n",
       "      <td>1010</td>\n",
       "      <td>252,823</td>\n",
       "      <td>100,073</td>\n",
       "      <td>2.53</td>\n",
       "      <td>1.12</td>\n",
       "    </tr>\n",
       "    <tr>\n",
       "      <th>256</th>\n",
       "      <td>103</td>\n",
       "      <td>1201</td>\n",
       "      <td>258,719</td>\n",
       "      <td>100,745</td>\n",
       "      <td>2.57</td>\n",
       "      <td>1.04</td>\n",
       "    </tr>\n",
       "    <tr>\n",
       "      <th>37</th>\n",
       "      <td>108</td>\n",
       "      <td>1042</td>\n",
       "      <td>248,177</td>\n",
       "      <td>101,090</td>\n",
       "      <td>2.46</td>\n",
       "      <td>0.97</td>\n",
       "    </tr>\n",
       "    <tr>\n",
       "      <th>70</th>\n",
       "      <td>107</td>\n",
       "      <td>1064</td>\n",
       "      <td>242,758</td>\n",
       "      <td>101,201</td>\n",
       "      <td>2.40</td>\n",
       "      <td>1.02</td>\n",
       "    </tr>\n",
       "    <tr>\n",
       "      <th>230</th>\n",
       "      <td>104</td>\n",
       "      <td>1226</td>\n",
       "      <td>246,634</td>\n",
       "      <td>101,508</td>\n",
       "      <td>2.43</td>\n",
       "      <td>1.06</td>\n",
       "    </tr>\n",
       "  </tbody>\n",
       "</table>\n",
       "</div>"
      ],
      "text/plain": [
       "     Province Code  City Code   Population   Households  Person's Household  \\\n",
       "52             112       1001   2,914,271    1,145,232                 2.54   \n",
       "228            104       1001   2,697,791    1,160,150                 2.33   \n",
       "254            103       1001   3,356,540    1,356,430                 2.47   \n",
       "26             108       1001   3,517,491    1,430,441                 2.46   \n",
       "200            114       1179      23,308       10,877                 2.14   \n",
       "266            103       1010     252,823      100,073                 2.53   \n",
       "256            103       1201     258,719      100,745                 2.57   \n",
       "37             108       1042     248,177      101,090                 2.46   \n",
       "70             107       1064     242,758      101,201                 2.40   \n",
       "230            104       1226     246,634      101,508                 2.43   \n",
       "\n",
       "     Gender Ratio  \n",
       "52           1.01  \n",
       "228          1.01  \n",
       "254          1.02  \n",
       "26           0.98  \n",
       "200          0.98  \n",
       "266          1.12  \n",
       "256          1.04  \n",
       "37           0.97  \n",
       "70           1.02  \n",
       "230          1.06  "
      ]
     },
     "execution_count": 29,
     "metadata": {},
     "output_type": "execute_result"
    }
   ],
   "source": [
    "#4)\n",
    "df.sort_values(by='Households', ascending=True).head(10)"
   ]
  },
  {
   "cell_type": "markdown",
   "id": "6ec548fd",
   "metadata": {},
   "source": []
  },
  {
   "cell_type": "markdown",
   "id": "ebb5629b",
   "metadata": {},
   "source": [
    "# Question 3"
   ]
  },
  {
   "cell_type": "code",
   "execution_count": 130,
   "id": "b4acbfd2",
   "metadata": {},
   "outputs": [
    {
     "name": "stdout",
     "output_type": "stream",
     "text": [
      "(43, 5)\n"
     ]
    },
    {
     "data": {
      "text/html": [
       "<div>\n",
       "<style scoped>\n",
       "    .dataframe tbody tr th:only-of-type {\n",
       "        vertical-align: middle;\n",
       "    }\n",
       "\n",
       "    .dataframe tbody tr th {\n",
       "        vertical-align: top;\n",
       "    }\n",
       "\n",
       "    .dataframe thead th {\n",
       "        text-align: right;\n",
       "    }\n",
       "</style>\n",
       "<table border=\"1\" class=\"dataframe\">\n",
       "  <thead>\n",
       "    <tr style=\"text-align: right;\">\n",
       "      <th></th>\n",
       "      <th>Date</th>\n",
       "      <th>Region</th>\n",
       "      <th>Item</th>\n",
       "      <th>Unit Price</th>\n",
       "      <th>Units</th>\n",
       "    </tr>\n",
       "  </thead>\n",
       "  <tbody>\n",
       "    <tr>\n",
       "      <th>0</th>\n",
       "      <td>04-Jul-14</td>\n",
       "      <td>East</td>\n",
       "      <td>Pen Set</td>\n",
       "      <td>4.99</td>\n",
       "      <td>62</td>\n",
       "    </tr>\n",
       "    <tr>\n",
       "      <th>1</th>\n",
       "      <td>12-Jul-14</td>\n",
       "      <td>East</td>\n",
       "      <td>Binder</td>\n",
       "      <td>1.99</td>\n",
       "      <td>29</td>\n",
       "    </tr>\n",
       "    <tr>\n",
       "      <th>2</th>\n",
       "      <td>21-Jul-14</td>\n",
       "      <td>Central</td>\n",
       "      <td>Pen Set</td>\n",
       "      <td>12.49</td>\n",
       "      <td>55</td>\n",
       "    </tr>\n",
       "    <tr>\n",
       "      <th>3</th>\n",
       "      <td>29-Jul-14</td>\n",
       "      <td>East</td>\n",
       "      <td>Binder</td>\n",
       "      <td>19.99</td>\n",
       "      <td>81</td>\n",
       "    </tr>\n",
       "    <tr>\n",
       "      <th>4</th>\n",
       "      <td>07-Aug-14</td>\n",
       "      <td>Central</td>\n",
       "      <td>Pen Set</td>\n",
       "      <td>23.95</td>\n",
       "      <td>42</td>\n",
       "    </tr>\n",
       "  </tbody>\n",
       "</table>\n",
       "</div>"
      ],
      "text/plain": [
       "        Date   Region     Item  Unit Price  Units\n",
       "0  04-Jul-14     East  Pen Set        4.99     62\n",
       "1  12-Jul-14     East   Binder        1.99     29\n",
       "2  21-Jul-14  Central  Pen Set       12.49     55\n",
       "3  29-Jul-14     East   Binder       19.99     81\n",
       "4  07-Aug-14  Central  Pen Set       23.95     42"
      ]
     },
     "execution_count": 130,
     "metadata": {},
     "output_type": "execute_result"
    }
   ],
   "source": [
    "#Read data from file and import pandas\n",
    "import pandas as pd\n",
    "import os\n",
    "import numpy as np\n",
    "df = pd.read_csv('./data_sales.csv', header = 'infer', na_values=[' '])\n",
    "print(df.shape)\n",
    "df.head(5)"
   ]
  },
  {
   "cell_type": "code",
   "execution_count": 131,
   "id": "b6467577",
   "metadata": {},
   "outputs": [
    {
     "name": "stdout",
     "output_type": "stream",
     "text": [
      "<class 'pandas.core.frame.DataFrame'>\n",
      "RangeIndex: 43 entries, 0 to 42\n",
      "Data columns (total 5 columns):\n",
      " #   Column     Non-Null Count  Dtype  \n",
      "---  ------     --------------  -----  \n",
      " 0   Date       43 non-null     object \n",
      " 1   Region     43 non-null     object \n",
      " 2   Item       43 non-null     object \n",
      " 3   UnitPrice  43 non-null     float64\n",
      " 4   Units      43 non-null     int64  \n",
      "dtypes: float64(1), int64(1), object(3)\n",
      "memory usage: 1.8+ KB\n"
     ]
    }
   ],
   "source": [
    "df = df.rename(columns={'Unit Price': 'UnitPrice'}) \n",
    "df.info()"
   ]
  },
  {
   "cell_type": "code",
   "execution_count": null,
   "id": "e012becb",
   "metadata": {},
   "outputs": [],
   "source": []
  },
  {
   "cell_type": "code",
   "execution_count": null,
   "id": "6acac24a",
   "metadata": {},
   "outputs": [
    {
     "data": {
      "text/html": [
       "<div>\n",
       "<style scoped>\n",
       "    .dataframe tbody tr th:only-of-type {\n",
       "        vertical-align: middle;\n",
       "    }\n",
       "\n",
       "    .dataframe tbody tr th {\n",
       "        vertical-align: top;\n",
       "    }\n",
       "\n",
       "    .dataframe thead th {\n",
       "        text-align: right;\n",
       "    }\n",
       "</style>\n",
       "<table border=\"1\" class=\"dataframe\">\n",
       "  <thead>\n",
       "    <tr style=\"text-align: right;\">\n",
       "      <th></th>\n",
       "      <th>Date</th>\n",
       "      <th>Region</th>\n",
       "      <th>Item</th>\n",
       "      <th>UnitPrice</th>\n",
       "      <th>Units</th>\n",
       "      <th>Amount</th>\n",
       "    </tr>\n",
       "  </thead>\n",
       "  <tbody>\n",
       "    <tr>\n",
       "      <th>0</th>\n",
       "      <td>04-Jul-14</td>\n",
       "      <td>East</td>\n",
       "      <td>Pen Set</td>\n",
       "      <td>4.99</td>\n",
       "      <td>62</td>\n",
       "      <td>309.38</td>\n",
       "    </tr>\n",
       "    <tr>\n",
       "      <th>1</th>\n",
       "      <td>12-Jul-14</td>\n",
       "      <td>East</td>\n",
       "      <td>Binder</td>\n",
       "      <td>1.99</td>\n",
       "      <td>29</td>\n",
       "      <td>57.71</td>\n",
       "    </tr>\n",
       "    <tr>\n",
       "      <th>2</th>\n",
       "      <td>21-Jul-14</td>\n",
       "      <td>Central</td>\n",
       "      <td>Pen Set</td>\n",
       "      <td>12.49</td>\n",
       "      <td>55</td>\n",
       "      <td>686.95</td>\n",
       "    </tr>\n",
       "    <tr>\n",
       "      <th>3</th>\n",
       "      <td>29-Jul-14</td>\n",
       "      <td>East</td>\n",
       "      <td>Binder</td>\n",
       "      <td>19.99</td>\n",
       "      <td>81</td>\n",
       "      <td>1619.19</td>\n",
       "    </tr>\n",
       "    <tr>\n",
       "      <th>4</th>\n",
       "      <td>07-Aug-14</td>\n",
       "      <td>Central</td>\n",
       "      <td>Pen Set</td>\n",
       "      <td>23.95</td>\n",
       "      <td>42</td>\n",
       "      <td>1005.90</td>\n",
       "    </tr>\n",
       "  </tbody>\n",
       "</table>\n",
       "</div>"
      ],
      "text/plain": [
       "        Date   Region     Item  UnitPrice  Units   Amount\n",
       "0  04-Jul-14     East  Pen Set       4.99     62   309.38\n",
       "1  12-Jul-14     East   Binder       1.99     29    57.71\n",
       "2  21-Jul-14  Central  Pen Set      12.49     55   686.95\n",
       "3  29-Jul-14     East   Binder      19.99     81  1619.19\n",
       "4  07-Aug-14  Central  Pen Set      23.95     42  1005.90"
      ]
     },
     "execution_count": 132,
     "metadata": {},
     "output_type": "execute_result"
    }
   ],
   "source": [
    "#1)\n",
    "df['Amount'] = df.UnitPrice*df.Units\n",
    "\n",
    "df.head(5)\n"
   ]
  },
  {
   "cell_type": "code",
   "execution_count": 133,
   "id": "1a0ba2c1",
   "metadata": {},
   "outputs": [
    {
     "data": {
      "text/plain": [
       "Region\n",
       "Central    18.018750\n",
       "East        9.143846\n",
       "West       53.658333\n",
       "Name: UnitPrice, dtype: float64"
      ]
     },
     "execution_count": 133,
     "metadata": {},
     "output_type": "execute_result"
    }
   ],
   "source": [
    "#2)\n",
    "df.groupby('Region')['UnitPrice'].mean()"
   ]
  },
  {
   "cell_type": "code",
   "execution_count": 134,
   "id": "28e2cf15",
   "metadata": {},
   "outputs": [
    {
     "data": {
      "text/html": [
       "<div>\n",
       "<style scoped>\n",
       "    .dataframe tbody tr th:only-of-type {\n",
       "        vertical-align: middle;\n",
       "    }\n",
       "\n",
       "    .dataframe tbody tr th {\n",
       "        vertical-align: top;\n",
       "    }\n",
       "\n",
       "    .dataframe thead th {\n",
       "        text-align: right;\n",
       "    }\n",
       "</style>\n",
       "<table border=\"1\" class=\"dataframe\">\n",
       "  <thead>\n",
       "    <tr style=\"text-align: right;\">\n",
       "      <th>Region</th>\n",
       "      <th>Central</th>\n",
       "      <th>East</th>\n",
       "      <th>West</th>\n",
       "    </tr>\n",
       "  </thead>\n",
       "  <tbody>\n",
       "    <tr>\n",
       "      <th>UnitPrice</th>\n",
       "      <td>18.01875</td>\n",
       "      <td>9.143846</td>\n",
       "      <td>53.658333</td>\n",
       "    </tr>\n",
       "  </tbody>\n",
       "</table>\n",
       "</div>"
      ],
      "text/plain": [
       "Region      Central      East       West\n",
       "UnitPrice  18.01875  9.143846  53.658333"
      ]
     },
     "execution_count": 134,
     "metadata": {},
     "output_type": "execute_result"
    }
   ],
   "source": [
    "#3)\n",
    "# Vertically.\n",
    "\n",
    "df.pivot_table(index = 'Region', values = 'UnitPrice', aggfunc=np.mean)\n",
    "\n",
    "#  Horizontally.\n",
    "df.pivot_table(columns = 'Region', values = 'UnitPrice', aggfunc=np.mean)"
   ]
  },
  {
   "cell_type": "code",
   "execution_count": 135,
   "id": "38607933",
   "metadata": {},
   "outputs": [
    {
     "data": {
      "text/html": [
       "<div>\n",
       "<style scoped>\n",
       "    .dataframe tbody tr th:only-of-type {\n",
       "        vertical-align: middle;\n",
       "    }\n",
       "\n",
       "    .dataframe tbody tr th {\n",
       "        vertical-align: top;\n",
       "    }\n",
       "\n",
       "    .dataframe thead th {\n",
       "        text-align: right;\n",
       "    }\n",
       "</style>\n",
       "<table border=\"1\" class=\"dataframe\">\n",
       "  <thead>\n",
       "    <tr style=\"text-align: right;\">\n",
       "      <th></th>\n",
       "      <th>UnitPrice</th>\n",
       "      <th>Units</th>\n",
       "    </tr>\n",
       "    <tr>\n",
       "      <th>Region</th>\n",
       "      <th></th>\n",
       "      <th></th>\n",
       "    </tr>\n",
       "  </thead>\n",
       "  <tbody>\n",
       "    <tr>\n",
       "      <th>Central</th>\n",
       "      <td>18.018750</td>\n",
       "      <td>49.958333</td>\n",
       "    </tr>\n",
       "    <tr>\n",
       "      <th>East</th>\n",
       "      <td>9.143846</td>\n",
       "      <td>53.153846</td>\n",
       "    </tr>\n",
       "    <tr>\n",
       "      <th>West</th>\n",
       "      <td>53.658333</td>\n",
       "      <td>38.500000</td>\n",
       "    </tr>\n",
       "  </tbody>\n",
       "</table>\n",
       "</div>"
      ],
      "text/plain": [
       "         UnitPrice      Units\n",
       "Region                       \n",
       "Central  18.018750  49.958333\n",
       "East      9.143846  53.153846\n",
       "West     53.658333  38.500000"
      ]
     },
     "execution_count": 135,
     "metadata": {},
     "output_type": "execute_result"
    }
   ],
   "source": [
    "#4)\n",
    "df.groupby('Region')[['UnitPrice','Units']].mean()"
   ]
  },
  {
   "cell_type": "code",
   "execution_count": 136,
   "id": "a23cf957",
   "metadata": {},
   "outputs": [
    {
     "data": {
      "text/html": [
       "<div>\n",
       "<style scoped>\n",
       "    .dataframe tbody tr th:only-of-type {\n",
       "        vertical-align: middle;\n",
       "    }\n",
       "\n",
       "    .dataframe tbody tr th {\n",
       "        vertical-align: top;\n",
       "    }\n",
       "\n",
       "    .dataframe thead th {\n",
       "        text-align: right;\n",
       "    }\n",
       "</style>\n",
       "<table border=\"1\" class=\"dataframe\">\n",
       "  <thead>\n",
       "    <tr style=\"text-align: right;\">\n",
       "      <th></th>\n",
       "      <th>UnitPrice</th>\n",
       "      <th>Units</th>\n",
       "    </tr>\n",
       "    <tr>\n",
       "      <th>Region</th>\n",
       "      <th></th>\n",
       "      <th></th>\n",
       "    </tr>\n",
       "  </thead>\n",
       "  <tbody>\n",
       "    <tr>\n",
       "      <th>Central</th>\n",
       "      <td>18.018750</td>\n",
       "      <td>49.958333</td>\n",
       "    </tr>\n",
       "    <tr>\n",
       "      <th>East</th>\n",
       "      <td>9.143846</td>\n",
       "      <td>53.153846</td>\n",
       "    </tr>\n",
       "    <tr>\n",
       "      <th>West</th>\n",
       "      <td>53.658333</td>\n",
       "      <td>38.500000</td>\n",
       "    </tr>\n",
       "  </tbody>\n",
       "</table>\n",
       "</div>"
      ],
      "text/plain": [
       "         UnitPrice      Units\n",
       "Region                       \n",
       "Central  18.018750  49.958333\n",
       "East      9.143846  53.153846\n",
       "West     53.658333  38.500000"
      ]
     },
     "execution_count": 136,
     "metadata": {},
     "output_type": "execute_result"
    }
   ],
   "source": [
    "#5)\n",
    "df.pivot_table(index='Region', values = ['UnitPrice','Units'], aggfunc=np.mean)"
   ]
  },
  {
   "cell_type": "code",
   "execution_count": 137,
   "id": "9e85d9c0",
   "metadata": {},
   "outputs": [
    {
     "data": {
      "text/html": [
       "<div>\n",
       "<style scoped>\n",
       "    .dataframe tbody tr th:only-of-type {\n",
       "        vertical-align: middle;\n",
       "    }\n",
       "\n",
       "    .dataframe tbody tr th {\n",
       "        vertical-align: top;\n",
       "    }\n",
       "\n",
       "    .dataframe thead th {\n",
       "        text-align: right;\n",
       "    }\n",
       "</style>\n",
       "<table border=\"1\" class=\"dataframe\">\n",
       "  <thead>\n",
       "    <tr style=\"text-align: right;\">\n",
       "      <th></th>\n",
       "      <th></th>\n",
       "      <th>Units</th>\n",
       "    </tr>\n",
       "    <tr>\n",
       "      <th>Region</th>\n",
       "      <th>Item</th>\n",
       "      <th></th>\n",
       "    </tr>\n",
       "  </thead>\n",
       "  <tbody>\n",
       "    <tr>\n",
       "      <th rowspan=\"5\" valign=\"top\">Central</th>\n",
       "      <th>Binder</th>\n",
       "      <td>424</td>\n",
       "    </tr>\n",
       "    <tr>\n",
       "      <th>Desk</th>\n",
       "      <td>7</td>\n",
       "    </tr>\n",
       "    <tr>\n",
       "      <th>Pen</th>\n",
       "      <td>27</td>\n",
       "    </tr>\n",
       "    <tr>\n",
       "      <th>Pen Set</th>\n",
       "      <td>243</td>\n",
       "    </tr>\n",
       "    <tr>\n",
       "      <th>Pencil</th>\n",
       "      <td>498</td>\n",
       "    </tr>\n",
       "    <tr>\n",
       "      <th rowspan=\"4\" valign=\"top\">East</th>\n",
       "      <th>Binder</th>\n",
       "      <td>234</td>\n",
       "    </tr>\n",
       "    <tr>\n",
       "      <th>Pen</th>\n",
       "      <td>175</td>\n",
       "    </tr>\n",
       "    <tr>\n",
       "      <th>Pen Set</th>\n",
       "      <td>152</td>\n",
       "    </tr>\n",
       "    <tr>\n",
       "      <th>Pencil</th>\n",
       "      <td>130</td>\n",
       "    </tr>\n",
       "    <tr>\n",
       "      <th rowspan=\"4\" valign=\"top\">West</th>\n",
       "      <th>Binder</th>\n",
       "      <td>64</td>\n",
       "    </tr>\n",
       "    <tr>\n",
       "      <th>Desk</th>\n",
       "      <td>3</td>\n",
       "    </tr>\n",
       "    <tr>\n",
       "      <th>Pen</th>\n",
       "      <td>76</td>\n",
       "    </tr>\n",
       "    <tr>\n",
       "      <th>Pencil</th>\n",
       "      <td>88</td>\n",
       "    </tr>\n",
       "  </tbody>\n",
       "</table>\n",
       "</div>"
      ],
      "text/plain": [
       "                 Units\n",
       "Region  Item          \n",
       "Central Binder     424\n",
       "        Desk         7\n",
       "        Pen         27\n",
       "        Pen Set    243\n",
       "        Pencil     498\n",
       "East    Binder     234\n",
       "        Pen        175\n",
       "        Pen Set    152\n",
       "        Pencil     130\n",
       "West    Binder      64\n",
       "        Desk         3\n",
       "        Pen         76\n",
       "        Pencil      88"
      ]
     },
     "execution_count": 137,
     "metadata": {},
     "output_type": "execute_result"
    }
   ],
   "source": [
    "#6)\n",
    "df.pivot_table(index='Region', columns = 'Item', values = 'Units', aggfunc=np.sum, fill_value=0 )\n",
    "\n",
    "df.pivot_table(index=['Region', 'Item'], values = 'Units', aggfunc=np.sum, fill_value=0 )"
   ]
  },
  {
   "cell_type": "code",
   "execution_count": 138,
   "id": "265b3c05",
   "metadata": {},
   "outputs": [
    {
     "data": {
      "text/html": [
       "<div>\n",
       "<style scoped>\n",
       "    .dataframe tbody tr th:only-of-type {\n",
       "        vertical-align: middle;\n",
       "    }\n",
       "\n",
       "    .dataframe tbody tr th {\n",
       "        vertical-align: top;\n",
       "    }\n",
       "\n",
       "    .dataframe thead th {\n",
       "        text-align: right;\n",
       "    }\n",
       "</style>\n",
       "<table border=\"1\" class=\"dataframe\">\n",
       "  <thead>\n",
       "    <tr style=\"text-align: right;\">\n",
       "      <th></th>\n",
       "      <th></th>\n",
       "      <th>Amount</th>\n",
       "    </tr>\n",
       "    <tr>\n",
       "      <th>Region</th>\n",
       "      <th>Item</th>\n",
       "      <th></th>\n",
       "    </tr>\n",
       "  </thead>\n",
       "  <tbody>\n",
       "    <tr>\n",
       "      <th rowspan=\"5\" valign=\"top\">Central</th>\n",
       "      <th>Binder</th>\n",
       "      <td>5762.63</td>\n",
       "    </tr>\n",
       "    <tr>\n",
       "      <th>Desk</th>\n",
       "      <td>875.00</td>\n",
       "    </tr>\n",
       "    <tr>\n",
       "      <th>Pen</th>\n",
       "      <td>539.73</td>\n",
       "    </tr>\n",
       "    <tr>\n",
       "      <th>Pen Set</th>\n",
       "      <td>2421.39</td>\n",
       "    </tr>\n",
       "    <tr>\n",
       "      <th>Pencil</th>\n",
       "      <td>1540.32</td>\n",
       "    </tr>\n",
       "    <tr>\n",
       "      <th rowspan=\"4\" valign=\"top\">East</th>\n",
       "      <th>Binder</th>\n",
       "      <td>2535.66</td>\n",
       "    </tr>\n",
       "    <tr>\n",
       "      <th>Pen</th>\n",
       "      <td>1354.25</td>\n",
       "    </tr>\n",
       "    <tr>\n",
       "      <th>Pen Set</th>\n",
       "      <td>1748.48</td>\n",
       "    </tr>\n",
       "    <tr>\n",
       "      <th>Pencil</th>\n",
       "      <td>363.70</td>\n",
       "    </tr>\n",
       "    <tr>\n",
       "      <th rowspan=\"4\" valign=\"top\">West</th>\n",
       "      <th>Binder</th>\n",
       "      <td>1279.36</td>\n",
       "    </tr>\n",
       "    <tr>\n",
       "      <th>Desk</th>\n",
       "      <td>825.00</td>\n",
       "    </tr>\n",
       "    <tr>\n",
       "      <th>Pen</th>\n",
       "      <td>151.24</td>\n",
       "    </tr>\n",
       "    <tr>\n",
       "      <th>Pencil</th>\n",
       "      <td>231.12</td>\n",
       "    </tr>\n",
       "  </tbody>\n",
       "</table>\n",
       "</div>"
      ],
      "text/plain": [
       "                  Amount\n",
       "Region  Item            \n",
       "Central Binder   5762.63\n",
       "        Desk      875.00\n",
       "        Pen       539.73\n",
       "        Pen Set  2421.39\n",
       "        Pencil   1540.32\n",
       "East    Binder   2535.66\n",
       "        Pen      1354.25\n",
       "        Pen Set  1748.48\n",
       "        Pencil    363.70\n",
       "West    Binder   1279.36\n",
       "        Desk      825.00\n",
       "        Pen       151.24\n",
       "        Pencil    231.12"
      ]
     },
     "execution_count": 138,
     "metadata": {},
     "output_type": "execute_result"
    }
   ],
   "source": [
    "#7)\n",
    "\n",
    "df.pivot_table(index='Region', columns = 'Item', values = 'Amount', aggfunc=np.sum, fill_value=0 )\n",
    "\n",
    "df.pivot_table(index=['Region', 'Item'], values = 'Amount', aggfunc=np.sum, fill_value=0 )"
   ]
  },
  {
   "cell_type": "code",
   "execution_count": null,
   "id": "a69e4a47",
   "metadata": {},
   "outputs": [],
   "source": []
  },
  {
   "cell_type": "markdown",
   "id": "592f1eab",
   "metadata": {},
   "source": [
    "# Question 4"
   ]
  },
  {
   "cell_type": "code",
   "execution_count": 150,
   "id": "e0660854",
   "metadata": {},
   "outputs": [
    {
     "name": "stdout",
     "output_type": "stream",
     "text": [
      "(43182, 3)\n"
     ]
    },
    {
     "data": {
      "text/html": [
       "<div>\n",
       "<style scoped>\n",
       "    .dataframe tbody tr th:only-of-type {\n",
       "        vertical-align: middle;\n",
       "    }\n",
       "\n",
       "    .dataframe tbody tr th {\n",
       "        vertical-align: top;\n",
       "    }\n",
       "\n",
       "    .dataframe thead th {\n",
       "        text-align: right;\n",
       "    }\n",
       "</style>\n",
       "<table border=\"1\" class=\"dataframe\">\n",
       "  <thead>\n",
       "    <tr style=\"text-align: right;\">\n",
       "      <th></th>\n",
       "      <th>Year of Start</th>\n",
       "      <th>Current State</th>\n",
       "      <th>Size of Site</th>\n",
       "    </tr>\n",
       "  </thead>\n",
       "  <tbody>\n",
       "    <tr>\n",
       "      <th>0</th>\n",
       "      <td>2008.0</td>\n",
       "      <td>In</td>\n",
       "      <td>20.80</td>\n",
       "    </tr>\n",
       "    <tr>\n",
       "      <th>1</th>\n",
       "      <td>2010.0</td>\n",
       "      <td>In</td>\n",
       "      <td>212.72</td>\n",
       "    </tr>\n",
       "    <tr>\n",
       "      <th>2</th>\n",
       "      <td>2013.0</td>\n",
       "      <td>In</td>\n",
       "      <td>20.04</td>\n",
       "    </tr>\n",
       "    <tr>\n",
       "      <th>3</th>\n",
       "      <td>2012.0</td>\n",
       "      <td>In</td>\n",
       "      <td>64.17</td>\n",
       "    </tr>\n",
       "    <tr>\n",
       "      <th>4</th>\n",
       "      <td>2002.0</td>\n",
       "      <td>Out</td>\n",
       "      <td>11.40</td>\n",
       "    </tr>\n",
       "  </tbody>\n",
       "</table>\n",
       "</div>"
      ],
      "text/plain": [
       "   Year of Start Current State  Size of Site\n",
       "0         2008.0            In         20.80\n",
       "1         2010.0            In        212.72\n",
       "2         2013.0            In         20.04\n",
       "3         2012.0            In         64.17\n",
       "4         2002.0           Out         11.40"
      ]
     },
     "execution_count": 150,
     "metadata": {},
     "output_type": "execute_result"
    }
   ],
   "source": [
    "#Read data from file and import pandas\n",
    "import pandas as pd\n",
    "import os\n",
    "import numpy as np\n",
    "import matplotlib.pyplot as plt\n",
    "df = pd.read_csv('./data_coffeeshop.csv', header = 'infer',na_values=[' '])\n",
    "print(df.shape)\n",
    "df.head(5)"
   ]
  },
  {
   "cell_type": "code",
   "execution_count": 152,
   "id": "b9c8702f",
   "metadata": {},
   "outputs": [
    {
     "name": "stdout",
     "output_type": "stream",
     "text": [
      "<class 'pandas.core.frame.DataFrame'>\n",
      "RangeIndex: 43182 entries, 0 to 43181\n",
      "Data columns (total 3 columns):\n",
      " #   Column         Non-Null Count  Dtype  \n",
      "---  ------         --------------  -----  \n",
      " 0   YearOfStart    43163 non-null  float64\n",
      " 1   Current State  43163 non-null  object \n",
      " 2   Size of Site   43163 non-null  float64\n",
      "dtypes: float64(2), object(1)\n",
      "memory usage: 1012.2+ KB\n"
     ]
    },
    {
     "data": {
      "image/png": "[encoded data removed]",
      "text/plain": [
       "<Figure size 640x480 with 1 Axes>"
      ]
     },
     "metadata": {},
     "output_type": "display_data"
    }
   ],
   "source": [
    "#1)\n",
    "df = df.rename(columns={'Year of Start': 'YearOfStart'}) \n",
    "df.info()\n",
    "table = df.YearOfStart.value_counts()\n",
    "\n",
    "table = table.sort_index()\n",
    "\n",
    "plt.plot(table.index, table.values, color='green', alpha=0.5, linewidth=2, linestyle='--')\n",
    "\n",
    "plt.xlim([1997, 2014])\n",
    "\n",
    "plt.show()"
   ]
  },
  {
   "cell_type": "code",
   "execution_count": 153,
   "id": "1d0dc501",
   "metadata": {},
   "outputs": [
    {
     "name": "stdout",
     "output_type": "stream",
     "text": [
      "<class 'pandas.core.frame.DataFrame'>\n",
      "RangeIndex: 43182 entries, 0 to 43181\n",
      "Data columns (total 3 columns):\n",
      " #   Column        Non-Null Count  Dtype  \n",
      "---  ------        --------------  -----  \n",
      " 0   YearOfStart   43163 non-null  float64\n",
      " 1   CurrentState  43163 non-null  object \n",
      " 2   Size of Site  43163 non-null  float64\n",
      "dtypes: float64(2), object(1)\n",
      "memory usage: 1012.2+ KB\n"
     ]
    },
    {
     "data": {
      "image/png": "[encoded data removed]",
      "text/plain": [
       "<Figure size 500x300 with 1 Axes>"
      ]
     },
     "metadata": {},
     "output_type": "display_data"
    }
   ],
   "source": [
    "#2) \n",
    "# Split the data by the current state of business.\n",
    "df = df.rename(columns={'Current State': 'CurrentState'}) \n",
    "df.info()\n",
    "\n",
    "df_in = df[df.CurrentState == 'In']                      # In business.\n",
    "\n",
    "df_out = df[df.CurrentState == 'Out']                    # Out of business.\n",
    "\n",
    "# Frequency tables.\n",
    "\n",
    "table_in = df_in.YearOfStart.value_counts()\n",
    "\n",
    "table_in = table_in.sort_index()\n",
    "\n",
    "table_out = df_out.YearOfStart.value_counts()\n",
    "\n",
    "table_out = table_out.sort_index()\n",
    "\n",
    "# Visualize as two overlapping line plots.\n",
    "\n",
    "fig = plt.figure(figsize=[5,3])\n",
    "\n",
    "my_axes = fig.add_axes([0,0,1,1])\n",
    "\n",
    "my_axes.plot(table_in.index, table_in.values, color = 'green', linestyle='--',label='In Business')\n",
    "\n",
    "my_axes.plot(table_out.index, table_out.values,color = 'black', linestyle='-.', label='Out of Business')\n",
    "\n",
    "my_axes.legend(loc=0)\n",
    "\n",
    "my_axes.set_xlim([1997, 2014])\n",
    "\n",
    "plt.show()"
   ]
  },
  {
   "cell_type": "code",
   "execution_count": null,
   "id": "26b9b9d1",
   "metadata": {},
   "outputs": [],
   "source": [
    "#3)\n",
    "\n",
    "#Around the year 2008, began a steep increase in the number of new coffee shops.\n",
    "#As of the year 2014, more coffee shops opened in the past 5 years are still in business rather than going out of business.\n"
   ]
  },
  {
   "cell_type": "code",
   "execution_count": null,
   "id": "aa0e9a1f",
   "metadata": {},
   "outputs": [],
   "source": [
    "\n"
   ]
  }
 ],
 "metadata": {
  "kernelspec": {
   "display_name": "Python 3 (ipykernel)",
   "language": "python",
   "name": "python3"
  },
  "language_info": {
   "codemirror_mode": {
    "name": "ipython",
    "version": 3
   },
   "file_extension": ".py",
   "mimetype": "text/x-python",
   "name": "python",
   "nbconvert_exporter": "python",
   "pygments_lexer": "ipython3",
   "version": "3.11.5"
  }
 },
 "nbformat": 4,
 "nbformat_minor": 5
}
