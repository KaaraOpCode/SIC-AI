{
 "cells": [
  {
   "cell_type": "code",
   "execution_count": null,
   "id": "39ec7324-2fbf-4328-a984-b62c61421263",
   "metadata": {},
   "outputs": [],
   "source": [
    "QUESTION ONE"
   ]
  },
  {
   "cell_type": "code",
   "execution_count": 4,
   "id": "ba66ec0d",
   "metadata": {},
   "outputs": [
    {
     "name": "stdout",
     "output_type": "stream",
     "text": [
      "Current Directory: C:\\Users\\IT-Admin.L2PC-16\\Documents\\AI\\Exercises\n",
      "              Name Gender  Age  Grade Absence Bloodtype  Height  Weight\n",
      "0    Jared Diamond      M   23      3       Y         O   165.3    68.2\n",
      "1   Sarah O'Donnel      F   22      2       N        AB   170.1    53.0\n",
      "2     Brian Martin      M   24      4       N         B   175.0    80.1\n",
      "3     David Hassel      M   23      3       N        AB   182.1    85.7\n",
      "4  Clara Rodriquez      F   20      1       Y         A   168.0    49.5\n"
     ]
    }
   ],
   "source": [
    "import pandas as pd\n",
    "import os\n",
    "\n",
    "# Set working directory\n",
    "os.chdir(r'C:\\Users\\IT-Admin.L2PC-16\\Documents\\AI\\Exercises')\n",
    "\n",
    "# Confirm the working directory (optional but useful for debugging)\n",
    "print(\"Current Directory:\", os.getcwd())\n",
    "\n",
    "# Load the CSV file with explicit encoding\n",
    "# Try one of these common encodings: 'latin-1', 'cp1252', 'ISO-8859-1'\n",
    "df = pd.read_csv('data_studentlist.csv', encoding='latin-1')  # Using latin-1 as it's more permissive\n",
    "\n",
    "# Display the first 5 rows\n",
    "print(df.head(5))"
   ]
  },
  {
   "cell_type": "code",
   "execution_count": 5,
   "id": "3f083c0c-4a70-49b4-8807-848bade2b2b6",
   "metadata": {},
   "outputs": [
    {
     "name": "stdout",
     "output_type": "stream",
     "text": [
      "Average height of male students: 172.41 cm\n"
     ]
    }
   ],
   "source": [
    "#1 )\n",
    "average_height_males = df[df['Gender'] == 'M']['Height'].mean()\n",
    "print(f\"Average height of male students: {average_height_males:.2f} cm\")"
   ]
  },
  {
   "cell_type": "code",
   "execution_count": 6,
   "id": "42dfafd2-9d22-4a64-b1dd-b54c5edf53a7",
   "metadata": {},
   "outputs": [
    {
     "name": "stdout",
     "output_type": "stream",
     "text": [
      "Average height of female students: 166.64 cm\n"
     ]
    }
   ],
   "source": [
    "#2 )\n",
    "average_height_females = df[df['Gender'] == 'F']['Height'].mean()\n",
    "\n",
    "print(f\"Average height of female students: {average_height_females:.2f} cm\")\n"
   ]
  },
  {
   "cell_type": "code",
   "execution_count": 7,
   "id": "09d514c8-ae03-42f9-96e2-a00e58c597ae",
   "metadata": {},
   "outputs": [
    {
     "name": "stdout",
     "output_type": "stream",
     "text": [
      "Average weight of male students: 68.50 kg\n"
     ]
    }
   ],
   "source": [
    "#3 )\n",
    "average_weight_males = df[df['Gender'] == 'M']['Weight'].mean()\n",
    "print(f\"Average weight of male students: {average_weight_males:.2f} kg\")\n"
   ]
  },
  {
   "cell_type": "code",
   "execution_count": 9,
   "id": "a7949191-91ec-4cda-bae0-b769927bdd7a",
   "metadata": {},
   "outputs": [
    {
     "name": "stdout",
     "output_type": "stream",
     "text": [
      "Average weight of female students: 50.44 kg\n"
     ]
    }
   ],
   "source": [
    "#4 )\n",
    "average_weight_females = df[df['Gender'] == 'F']['Weight'].mean()\n",
    "print(f\"Average weight of female students: {average_weight_females:.2f} kg\")"
   ]
  },
  {
   "cell_type": "code",
   "execution_count": 10,
   "id": "49cf5d90-ad02-45ba-979e-5a0763910757",
   "metadata": {},
   "outputs": [
    {
     "name": "stdout",
     "output_type": "stream",
     "text": [
      "Tallest height among male students: 182.1 cm\n"
     ]
    }
   ],
   "source": [
    "#5 )\n",
    "tallest_male_height = df[df['Gender'] == 'M']['Height'].max()\n",
    "print(f\"Tallest height among male students: {tallest_male_height:.1f} cm\")"
   ]
  },
  {
   "cell_type": "code",
   "execution_count": 12,
   "id": "acb82ae7-1c4a-4723-92b3-9703748bca7f",
   "metadata": {},
   "outputs": [
    {
     "name": "stdout",
     "output_type": "stream",
     "text": [
      "Shortest height among female students: 162.2 cm\n"
     ]
    }
   ],
   "source": [
    "#6 )\n",
    "shortest_female_height = df[df['Gender'] == 'M']['Height'].min()\n",
    "print(f\"Shortest height among female students: {shortest_female_height:.1f} cm\") "
   ]
  },
  {
   "cell_type": "code",
   "execution_count": 13,
   "id": "55fee449-81d3-4f4a-99a2-cd462bbbb926",
   "metadata": {},
   "outputs": [
    {
     "name": "stdout",
     "output_type": "stream",
     "text": [
      "Lightest weight among male students taller than 175 cm: 61.3 kg\n"
     ]
    }
   ],
   "source": [
    "#7 )\n",
    "lightest_weight = df[(df['Gender'] == 'M') & (df['Height'] > 175)]['Weight'].min()\n",
    "print(f\"Lightest weight among male students taller than 175 cm: {lightest_weight:.1f} kg\")"
   ]
  },
  {
   "cell_type": "code",
   "execution_count": 14,
   "id": "ed75d7f2-eb3f-43e9-8a1d-68a1a2f6dc00",
   "metadata": {},
   "outputs": [
    {
     "name": "stdout",
     "output_type": "stream",
     "text": [
      "Heaviest weight among female students less than 160 cm: 55.0 kg\n"
     ]
    }
   ],
   "source": [
    "#8 )\n",
    "heaviest_weight = df[(df['Gender'] == 'F') & (df['Weight'] < 160)]['Weight'].max()\n",
    "print(f\"Heaviest weight among female students less than 160 cm: {heaviest_weight:.1f} kg\")"
   ]
  },
  {
   "cell_type": "code",
   "execution_count": null,
   "id": "cc28a2a4-4db4-499d-9cf9-587a23977f2b",
   "metadata": {},
   "outputs": [],
   "source": [
    "#9 )\n",
    "average_grade_no_absence = df[df['Absence'] == 'N']['Grade'].mean()\n",
    "print(f\"Average grade of students without absence: {average_grade_no_absence:.2f}\")"
   ]
  },
  {
   "cell_type": "code",
   "execution_count": null,
   "id": "076936c1-4920-4e82-9118-5f1d18aa7069",
   "metadata": {},
   "outputs": [],
   "source": [
    "#10 )\n",
    "average_grade_absent = df[df['Absence'] == 'Y']['Grade'].mean()\n",
    "print(f\"Average grade of students with absence: {average_grade_absent:.2f}\")\n"
   ]
  },
  {
   "cell_type": "code",
   "execution_count": null,
   "id": "96932d3a-2c67-4398-b634-6d8c0c8e5f40",
   "metadata": {},
   "outputs": [],
   "source": [
    "#11 )\n",
    "avg_height_A_AB = df[df['Bloodtype'].isin(['A', 'AB'])]['Height'].mean()\n",
    "print(f\"Average height of students with blood type A or AB: {avg_height_A_AB:.2f} cm\")\n"
   ]
  },
  {
   "cell_type": "code",
   "execution_count": 15,
   "id": "86abc67a-f6a8-4c2a-873d-dfe5e0338843",
   "metadata": {},
   "outputs": [
    {
     "name": "stdout",
     "output_type": "stream",
     "text": [
      "Average height of male students with blood type A or AB: 173.38 cm\n"
     ]
    }
   ],
   "source": [
    "#12 )\n",
    "avg_height_male_A_AB = df[\n",
    "    (df['Gender'] == 'M') &\n",
    "    (df['Bloodtype'].isin(['A', 'AB']))\n",
    "]['Height'].mean()\n",
    "\n",
    "print(f\"Average height of male students with blood type A or AB: {avg_height_male_A_AB:.2f} cm\")\n",
    "\n"
   ]
  },
  {
   "cell_type": "code",
   "execution_count": null,
   "id": "7e79ac72-d488-4bdb-aa42-51ce06557347",
   "metadata": {},
   "outputs": [],
   "source": [
    "#13 )\n",
    "avg_age_absent_grade3_plus = df[\n",
    "    (df['Absence'] == 'Y') &\n",
    "    (df['Grade'] >= 3)\n",
    "]['Age'].mean()\n",
    "\n",
    "print(f\"Average age of students with absence='Y' and grade ≥ 3: {avg_age_absent_grade3_plus:.2f} years\")\n"
   ]
  },
  {
   "cell_type": "code",
   "execution_count": null,
   "id": "1272f6b2-b91f-48b4-9574-0ad6356801a9",
   "metadata": {},
   "outputs": [],
   "source": [
    "QUESTION TWO"
   ]
  },
  {
   "cell_type": "code",
   "execution_count": 16,
   "id": "66fa1221-f44b-47c5-b432-d1cf2f0aed38",
   "metadata": {},
   "outputs": [
    {
     "name": "stdout",
     "output_type": "stream",
     "text": [
      "Index(['Province Code', 'City Code', 'Population', 'Households',\n",
      "       'Person's Household', 'Gender Ratio'],\n",
      "      dtype='object')\n"
     ]
    }
   ],
   "source": [
    "import pandas as pd\n",
    "\n",
    "# Load your data (adjust path/name as needed)\n",
    "df = pd.read_csv('data_census.csv')\n",
    "\n",
    "# Inspect columns\n",
    "print(df.columns)\n"
   ]
  },
  {
   "cell_type": "code",
   "execution_count": null,
   "id": "70d124f2-54b9-431c-a5be-bf0a06777c7f",
   "metadata": {},
   "outputs": [],
   "source": [
    "# 1) Total population of ProvinceCode == 15 or 16\n",
    "total_pop_15_16 = df[df['Province Code'].isin([15, 16])]['Population'].sum()\n",
    "print(f\"1) Total population (Province 15 & 16): {total_pop_15_16:,}\")"
   ]
  },
  {
   "cell_type": "code",
   "execution_count": null,
   "id": "741f3b07-0f0a-4654-ad2b-44debac57116",
   "metadata": {},
   "outputs": [],
   "source": [
    "# 2) Average population of cities where there are more males (GenderRatio > 1)\n",
    "avg_pop_more_males = df[df['Gender Ratio'] > 1]['Population'].mean()\n",
    "print(f\"2) Avg population (GenderRatio > 1): {avg_pop_more_males:,.0f}\")"
   ]
  },
  {
   "cell_type": "code",
   "execution_count": null,
   "id": "85871c18-36a9-4332-a4da-a973e8960b5b",
   "metadata": {},
   "outputs": [],
   "source": [
    "# 3) \n",
    "# Places with more males (GenderRatio > 1) and less than 2 persons per household\n",
    "places = df[\n",
    "    (df['Gender Ratio'] > 1) &\n",
    "    (df[\"Person's Household\"] < 2)\n",
    "]\n",
    "print(\"3) Cities with GenderRatio > 1 and < 2 persons/household:\")\n",
    "print(places)"
   ]
  },
  {
   "cell_type": "code",
   "execution_count": null,
   "id": "39c167fb-ab5e-4855-8870-1562726e346d",
   "metadata": {},
   "outputs": [],
   "source": [
    "\n",
    "# 4) \n",
    "# Sort DataFrame ascending by 'Households' and show top 10\n",
    "top10_fewest_households = df.sort_values(by='Households', ascending=True).head(10)\n",
    "print(\"4) Top 10 places with fewest households:\")\n",
    "print(top10_fewest_households)"
   ]
  },
  {
   "cell_type": "code",
   "execution_count": null,
   "id": "9f04ff62-b32c-481b-a8e7-c88a3ef48ece",
   "metadata": {},
   "outputs": [],
   "source": [
    "QUESTION THREE"
   ]
  }
 ],
 "metadata": {
  "kernelspec": {
   "display_name": "Python [conda env:base] *",
   "language": "python",
   "name": "conda-base-py"
  },
  "language_info": {
   "codemirror_mode": {
    "name": "ipython",
    "version": 3
   },
   "file_extension": ".py",
   "mimetype": "text/x-python",
   "name": "python",
   "nbconvert_exporter": "python",
   "pygments_lexer": "ipython3",
   "version": "3.11.7"
  }
 },
 "nbformat": 4,
 "nbformat_minor": 5
}
