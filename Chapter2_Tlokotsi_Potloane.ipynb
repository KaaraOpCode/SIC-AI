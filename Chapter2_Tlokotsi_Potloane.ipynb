{
 "cells": [
  {
   "cell_type": "code",
   "execution_count": null,
   "id": "04eadb82-ac1b-4f94-9acf-2af8eafe40f1",
   "metadata": {},
   "outputs": [],
   "source": [
    "QUESTION 1."
   ]
  },
  {
   "cell_type": "code",
   "execution_count": 3,
   "id": "f79825a0-af19-4b4f-b1ed-ac7fb5a53242",
   "metadata": {},
   "outputs": [
    {
     "name": "stdout",
     "output_type": "stream",
     "text": [
      "[0. 0. 0.]\n"
     ]
    }
   ],
   "source": [
    "import numpy as np\n",
    "\n",
    "#zero vectors\n",
    "zero_vector = np.zeros(3)\n",
    "print(zero_vector)"
   ]
  },
  {
   "cell_type": "code",
   "execution_count": 4,
   "id": "3d7e84f3-a72b-41b3-a7e7-a32e98c3fb25",
   "metadata": {},
   "outputs": [
    {
     "name": "stdout",
     "output_type": "stream",
     "text": [
      "[1. 1. 1.]\n"
     ]
    }
   ],
   "source": [
    "#one vector \n",
    "one_vector = np.ones(3)\n",
    "print(one_vector)"
   ]
  },
  {
   "cell_type": "code",
   "execution_count": 5,
   "id": "ede5585e-5612-45ad-a0ae-dc953a99ca27",
   "metadata": {},
   "outputs": [
    {
     "name": "stdout",
     "output_type": "stream",
     "text": [
      "[[1 2]\n",
      " [3 4]]\n"
     ]
    }
   ],
   "source": [
    "#square matrix\n",
    "square_matrix = np.array([[1,2],[3,4]])\n",
    "print(square_matrix)\n"
   ]
  },
  {
   "cell_type": "code",
   "execution_count": 6,
   "id": "5b300ec5-ff92-47c0-8d51-c17c05edd788",
   "metadata": {},
   "outputs": [
    {
     "name": "stdout",
     "output_type": "stream",
     "text": [
      "[[1 0 0]\n",
      " [0 2 0]\n",
      " [0 0 3]]\n"
     ]
    }
   ],
   "source": [
    "#diagnal matrix\n",
    "diagnal_matrix = np.diag([1,2,3])\n",
    "print(diagnal_matrix)"
   ]
  },
  {
   "cell_type": "code",
   "execution_count": 9,
   "id": "5b1082bf-bbfa-4227-a1f5-4b874ffab118",
   "metadata": {},
   "outputs": [
    {
     "name": "stdout",
     "output_type": "stream",
     "text": [
      "[[1. 0. 0.]\n",
      " [0. 1. 0.]\n",
      " [0. 0. 1.]]\n"
     ]
    }
   ],
   "source": [
    "#identity matrix\n",
    "identity_matrix = np.eye(3)\n",
    "print(identity_matrix)"
   ]
  },
  {
   "cell_type": "code",
   "execution_count": 10,
   "id": "8937ed53-1247-4927-b26e-d5ecf0409769",
   "metadata": {},
   "outputs": [
    {
     "name": "stdout",
     "output_type": "stream",
     "text": [
      "[[1 2]\n",
      " [3 4]]\n"
     ]
    }
   ],
   "source": [
    "#symmetric matrix\n",
    "symm_matrix = np.array([[1,2],[3,4]])\n",
    "print(symm_matrix)"
   ]
  },
  {
   "cell_type": "code",
   "execution_count": null,
   "id": "688279b1-2518-4a3e-bb79-b9dd7a5dbbd7",
   "metadata": {},
   "outputs": [],
   "source": [
    "QUESTION 2."
   ]
  },
  {
   "cell_type": "code",
   "execution_count": 11,
   "id": "e384a9f5-331b-44c1-a5ee-0a806c537bf2",
   "metadata": {},
   "outputs": [
    {
     "name": "stdout",
     "output_type": "stream",
     "text": [
      "8700000\n"
     ]
    }
   ],
   "source": [
    "#STOCK PURCHASE WITH VECTORS\n",
    "p = np.array([1_000_000, 800_000, 500_000])\n",
    "\n",
    "#quanity vecctor\n",
    "\n",
    "n = np.array([3,4,5])\n",
    "\n",
    "#total\n",
    "total_cost = np.dot(p,n)\n",
    "print(total_cost)"
   ]
  },
  {
   "cell_type": "code",
   "execution_count": null,
   "id": "3c242b1b-9741-42ad-97a1-50d052364c4c",
   "metadata": {},
   "outputs": [],
   "source": [
    "QUESTION 3"
   ]
  },
  {
   "cell_type": "code",
   "execution_count": 15,
   "id": "0bccc19d-7265-4ec9-a6ee-11638e2575eb",
   "metadata": {},
   "outputs": [
    {
     "name": "stdout",
     "output_type": "stream",
     "text": [
      "2807.0\n",
      "[[3070. 1866. 2264. ... 2812. 3006. 2898.]\n",
      " [1866. 4209. 3432. ... 3906. 3083. 3307.]\n",
      " [2264. 3432. 4388. ... 4005. 3063. 3697.]\n",
      " ...\n",
      " [2812. 3906. 4005. ... 5092. 3729. 4598.]\n",
      " [3006. 3083. 3063. ... 3729. 4316. 3850.]\n",
      " [2898. 3307. 3697. ... 4598. 3850. 4938.]]\n"
     ]
    }
   ],
   "source": [
    "#MNIST\n",
    "from sklearn.datasets import load_digits\n",
    "x = load_digits().data\n",
    "\n",
    "similarity = np.dot(x[0],x[9])\n",
    "print(similarity)\n",
    "\n",
    "similarity_matrix = x @ x.T\n",
    "print(similarity_matrix)"
   ]
  },
  {
   "cell_type": "code",
   "execution_count": null,
   "id": "3a4bcb3f-2c87-4c4e-a978-e11590678e48",
   "metadata": {},
   "outputs": [],
   "source": [
    "QUESTION 5"
   ]
  },
  {
   "cell_type": "code",
   "execution_count": 19,
   "id": "01e857c6-eb11-461a-95d6-bd08bbfefd1e",
   "metadata": {},
   "outputs": [
    {
     "name": "stdout",
     "output_type": "stream",
     "text": [
      "The house price is in inverse proportion to the CRIM (-0.1840)\n",
      "The house price is in inverse proportion to the NOX (-19.3962)\n",
      "The house price is in direct proportion to the RM (5.6736)\n",
      "The house price is in inverse proportion to the AGE (-0.0228)\n"
     ]
    }
   ],
   "source": [
    "import pandas as pd\n",
    "import numpy as np\n",
    "\n",
    "def load_boston():\n",
    "    data_url = \"http://lib.stat.cmu.edu/datasets/boston\"\n",
    "    raw_df = pd.read_csv(data_url, sep=\"\\s+\", skiprows=22, header=None)\n",
    "    data = np.hstack([raw_df.values[::2, :], raw_df.values[1::2, :2]])\n",
    "    target = raw_df.values[1::2, 2]\n",
    "    return {'data': data, 'target': target}\n",
    "\n",
    "boston = load_boston()\n",
    "X = boston['data'][:, [0, 4, 5, 6]] \n",
    "y = boston['target'][:X.shape[0]]\n",
    "\n",
    "x = np.linalg.lstsq(X, y, rcond=None)[0]\n",
    "\n",
    "# Output weights\n",
    "features = ['CRIM', 'NOX', 'RM', 'AGE']\n",
    "for i in range(len(x)):\n",
    "    relation = \"direct\" if x[i] > 0 else \"inverse\"\n",
    "    print(f\"The house price is in {relation} proportion to the {features[i]} ({x[i]:.4f})\")\n"
   ]
  },
  {
   "cell_type": "code",
   "execution_count": null,
   "id": "aca76c20-efe1-4d83-8c56-512572bdbcfa",
   "metadata": {},
   "outputs": [],
   "source": [
    "QUESTION 6"
   ]
  },
  {
   "cell_type": "code",
   "execution_count": 31,
   "id": "03ced1fd-c2be-43c5-9ca9-f3d39df748f3",
   "metadata": {},
   "outputs": [
    {
     "name": "stdout",
     "output_type": "stream",
     "text": [
      "Intercept: -19.8550 (inverse relationship)\n",
      "CRIM: -0.1931 (inverse relationship)\n",
      "NOX: -7.8411 (inverse relationship)\n",
      "RM: 7.8905 (direct relationship)\n",
      "AGE: -0.0314 (inverse relationship)\n"
     ]
    }
   ],
   "source": [
    "import pandas as pd\n",
    "import numpy as np\n",
    "\n",
    "def load_boston():\n",
    "    data_url = \"http://lib.stat.cmu.edu/datasets/boston\"\n",
    "    raw_df = pd.read_csv(data_url, sep=\"\\s+\", skiprows=22, header=None)\n",
    "    data = np.hstack([raw_df.values[::2, :], raw_df.values[1::2, :2]])\n",
    "    target = raw_df.values[1::2, 2]\n",
    "    return {'data': data, 'target': target}\n",
    "\n",
    "boston = load_boston()\n",
    "X = boston['data'][:, [0, 4, 5, 6]]  # CRIM, NOX, RM, AGE\n",
    "y = boston['target'][:X.shape[0]]\n",
    "\n",
    "X = np.column_stack([np.ones(X.shape[0]), X])\n",
    "\n",
    "w = np.linalg.inv(X.T @ X) @ X.T @ y\n",
    "\n",
    "# Display weights\n",
    "feature_names = ['Intercept', 'CRIM', 'NOX', 'RM', 'AGE']\n",
    "for name, weight in zip(feature_names, w):\n",
    "    relation = \"direct\" if weight > 0 else \"inverse\"\n",
    "    print(f\"{name}: {weight:.4f} ({relation} relationship)\")"
   ]
  },
  {
   "cell_type": "code",
   "execution_count": null,
   "id": "479a1a7e-62c7-4867-9f31-b85556af0dbb",
   "metadata": {},
   "outputs": [],
   "source": [
    "QUESTION 13"
   ]
  },
  {
   "cell_type": "code",
   "execution_count": 23,
   "id": "b9e27ccf-b9a8-48f6-988c-f686c015b152",
   "metadata": {},
   "outputs": [
    {
     "data": {
      "text/latex": [
       "$\\displaystyle 5 a x^{4} e^{a x^{5}}$"
      ],
      "text/plain": [
       "5*a*x**4*exp(a*x**5)"
      ]
     },
     "execution_count": 23,
     "metadata": {},
     "output_type": "execute_result"
    }
   ],
   "source": [
    "from sympy import symbols, diff, log, exp\n",
    "x, k, a = symbols('x k a')\n",
    "\n",
    "#A.\n",
    "f = x**3 - 1\n",
    "diff(f,x)\n",
    "\n",
    "#B\n",
    "f = log(x**2 - 3*k)\n",
    "diff(f,x)\n",
    "\n",
    "#C \n",
    "f = exp(a*x**5)\n",
    "diff(f,x)"
   ]
  },
  {
   "cell_type": "code",
   "execution_count": null,
   "id": "e9e6c2de-627a-40e0-bdde-5e3a7dc99582",
   "metadata": {},
   "outputs": [],
   "source": [
    "QUESTION 14"
   ]
  },
  {
   "cell_type": "code",
   "execution_count": 27,
   "id": "f6579dc5-c965-4612-9b5c-bae1e3966163",
   "metadata": {},
   "outputs": [
    {
     "name": "stdout",
     "output_type": "stream",
     "text": [
      "..........1st Deriv......\n",
      "2*x*exp(x**2 + 2*y**2)\n",
      "4*y*exp(x**2 + 2*y**2)\n",
      "..........2nd Deriv......\n",
      "4*x**2*exp(x**2 + 2*y**2) + 2*exp(x**2 + 2*y**2)\n",
      "16*y**2*exp(x**2 + 2*y**2) + 4*exp(x**2 + 2*y**2)\n",
      "8*x*y*exp(x**2 + 2*y**2)\n",
      "8*x*y*exp(x**2 + 2*y**2)\n"
     ]
    }
   ],
   "source": [
    "x, y = symbols('x y')\n",
    "f = exp(x**2 + 2*y**2)\n",
    "\n",
    "#First Derivatiuve\n",
    "print('..........1st Deriv......')\n",
    "fx = diff(f,x)\n",
    "print(fx)\n",
    "fy = diff(f,y)\n",
    "print(fy)\n",
    "\n",
    "#second derivatiuve\n",
    "print('..........2nd Deriv......')\n",
    "fxx = diff(fx, x)\n",
    "print(fxx)\n",
    "fyy = diff(fy,y)\n",
    "print(fyy)\n",
    "fxy = diff(fx, y)\n",
    "print(fxy)\n",
    "fyx = diff(fy, x)\n",
    "print(fyx)"
   ]
  },
  {
   "cell_type": "code",
   "execution_count": null,
   "id": "06324197-5d3f-4a08-8d0a-3e98414a161e",
   "metadata": {},
   "outputs": [],
   "source": []
  }
 ],
 "metadata": {
  "kernelspec": {
   "display_name": "Python [conda env:base] *",
   "language": "python",
   "name": "conda-base-py"
  },
  "language_info": {
   "codemirror_mode": {
    "name": "ipython",
    "version": 3
   },
   "file_extension": ".py",
   "mimetype": "text/x-python",
   "name": "python",
   "nbconvert_exporter": "python",
   "pygments_lexer": "ipython3",
   "version": "3.11.7"
  }
 },
 "nbformat": 4,
 "nbformat_minor": 5
}
